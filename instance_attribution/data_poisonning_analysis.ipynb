{
 "cells": [
  {
   "cell_type": "code",
   "execution_count": 1,
   "metadata": {
    "id": "SFClpvPNcvH4"
   },
   "outputs": [
    {
     "name": "stderr",
     "output_type": "stream",
     "text": [
      "2024-04-10 10:58:17.519935: E tensorflow/compiler/xla/stream_executor/cuda/cuda_dnn.cc:9342] Unable to register cuDNN factory: Attempting to register factory for plugin cuDNN when one has already been registered\n",
      "2024-04-10 10:58:17.519982: E tensorflow/compiler/xla/stream_executor/cuda/cuda_fft.cc:609] Unable to register cuFFT factory: Attempting to register factory for plugin cuFFT when one has already been registered\n",
      "2024-04-10 10:58:17.520011: E tensorflow/compiler/xla/stream_executor/cuda/cuda_blas.cc:1518] Unable to register cuBLAS factory: Attempting to register factory for plugin cuBLAS when one has already been registered\n",
      "2024-04-10 10:58:17.579702: I tensorflow/core/platform/cpu_feature_guard.cc:182] This TensorFlow binary is optimized to use available CPU instructions in performance-critical operations.\n",
      "To enable the following instructions: AVX2 FMA, in other operations, rebuild TensorFlow with the appropriate compiler flags.\n"
     ]
    }
   ],
   "source": [
    "import tensorflow as tf\n",
    "import numpy as np"
   ]
  },
  {
   "cell_type": "code",
   "execution_count": 3,
   "metadata": {
    "id": "oWE5goj6mnGQ"
   },
   "outputs": [],
   "source": [
    "BASE_DIR = \"\"  # set to whatever directory you are working/saving in\n",
    "pct_poison = 1\n",
    "trained_epochs = 100\n",
    "base_dnn = 'resnet50' # 'resnet50', 'efficientnetv2', ..."
   ]
  },
  {
   "cell_type": "code",
   "execution_count": 18,
   "metadata": {},
   "outputs": [
    {
     "name": "stdout",
     "output_type": "stream",
     "text": [
      "\n",
      "mnist\n",
      "3 of 3 training images found repeatedly in top-1 of 1000+ test images were from poisonned data.\n",
      "12 of 12 training images found repeatedly in top-3 of 1000+ test images were from poisonned data.\n",
      "36 of 41 training images found repeatedly in top-10 of 1000+ test images were from poisonned data.\n",
      "\n",
      "cifar10\n",
      "2 of 2 training images found repeatedly in top-1 of 1000+ test images were from poisonned data.\n",
      "11 of 11 training images found repeatedly in top-3 of 1000+ test images were from poisonned data.\n",
      "45 of 55 training images found repeatedly in top-10 of 1000+ test images were from poisonned data.\n",
      "\n",
      "cifar100\n",
      "26 of 27 training images found repeatedly in top-1 of 100+ test images were from poisonned data.\n",
      "178 of 188 training images found repeatedly in top-3 of 100+ test images were from poisonned data.\n",
      "497 of 844 training images found repeatedly in top-10 of 100+ test images were from poisonned data.\n"
     ]
    }
   ],
   "source": [
    "r=1000\n",
    "for ds in ['mnist', 'cifar10', 'cifar100']:\n",
    "    print(f\"\\n{ds}\")\n",
    "    inf = np.load(f\"{BASE_DIR}/{ds}_representer_val_{pct_poison}dp.npy\", allow_pickle=True)\n",
    "    inf = -1*inf\n",
    "    if ds == 'cifar100':\n",
    "        r=100\n",
    "\n",
    "    for k in [1,3,10]:\n",
    "        ix_top_list = []\n",
    "        for j in range(inf.shape[0]):\n",
    "          inf_j = inf[j].copy()\n",
    "          get_largest = False\n",
    "          if get_largest:\n",
    "            ix_top = np.argpartition(inf_j, -k)[-k:]\n",
    "          else:\n",
    "            ix_top = np.argpartition(inf_j, k-1)[:k]\n",
    "\n",
    "          ix_top_list.append(ix_top)\n",
    "\n",
    "        ix_top_list = np.array(ix_top_list)\n",
    "\n",
    "        val_counts = {v:c for v, c in zip(*np.unique(ix_top_list, return_counts=True)) if c>=r}\n",
    "        poisonned = np.where(ix_poisonned == 1)[0]\n",
    "        print(f\"{len([i for i in list(val_counts.keys()) if i in poisonned])} of {len(val_counts)} training images found repeatedly in top-{k} of {r}+ test images were from poisonned data.\")"
   ]
  }
 ],
 "metadata": {
  "accelerator": "GPU",
  "colab": {
   "machine_shape": "hm",
   "provenance": [],
   "toc_visible": true
  },
  "kernelspec": {
   "display_name": "mdl",
   "language": "python",
   "name": "mdl"
  },
  "language_info": {
   "codemirror_mode": {
    "name": "ipython",
    "version": 3
   },
   "file_extension": ".py",
   "mimetype": "text/x-python",
   "name": "python",
   "nbconvert_exporter": "python",
   "pygments_lexer": "ipython3",
   "version": "3.9.7"
  }
 },
 "nbformat": 4,
 "nbformat_minor": 4
}
