{
 "cells": [
  {
   "cell_type": "code",
   "execution_count": null,
   "metadata": {
    "id": "M93JiXInV7a8"
   },
   "outputs": [],
   "source": [
    "import tensorflow.compat.v1 as tf\n",
    "tf.enable_eager_execution()\n",
    "from tensorflow import keras\n",
    "import numpy as np\n",
    "import random\n",
    "import os\n",
    "import gc\n",
    "import time\n",
    "import platform\n",
    "\n",
    "from sklearn import random_projection\n",
    "\n",
    "from matplotlib import pyplot as plt\n",
    "import seaborn as sns"
   ]
  },
  {
   "cell_type": "code",
   "execution_count": null,
   "metadata": {
    "id": "0MWDr6uLwAui"
   },
   "outputs": [],
   "source": [
    "NUM_CLASSES = 10\n",
    "WIDTH = 32\n",
    "NUM_CHANNELS = 3\n",
    "NUM_TRAIN = 50000\n",
    "NUM_TEST = 10000\n",
    "NUM_DEV = 100\n",
    "\n",
    "DATASET = \"cifar10\"\n",
    "BASE_DIR = f\"\""
   ]
  },
  {
   "cell_type": "markdown",
   "metadata": {
    "id": "U7WV0D1FW9DG"
   },
   "source": [
    "## Data loading"
   ]
  },
  {
   "cell_type": "code",
   "execution_count": null,
   "metadata": {
    "id": "-OZy0xoWwH4j"
   },
   "outputs": [],
   "source": [
    "def _normalize(X):\n",
    "  assert X.dtype == np.uint8\n",
    "  X = X.astype(np.float64)\n",
    "  X /= 255\n",
    "  return X\n",
    "\n",
    "def get_one_hot(targets, nb_classes):\n",
    "  res = np.eye(nb_classes)[np.array(targets).reshape(-1)]\n",
    "  return res.reshape(list(targets.shape)+[nb_classes])\n",
    "\n",
    "def load_standard_cifar10():\n",
    "  (X_train, Y_train), (X_validation, Y_validation) = tf.keras.datasets.cifar10.load_data()\n",
    "  X_train = X_train.reshape(X_train.shape[0], WIDTH, WIDTH, NUM_CHANNELS)\n",
    "  X_validation = X_validation.reshape(X_validation.shape[0], WIDTH, WIDTH, NUM_CHANNELS)\n",
    "\n",
    "  X_train = _normalize(X_train)\n",
    "  X_validation = _normalize(X_validation)\n",
    "\n",
    "  Y_train = Y_train.astype(np.int32)\n",
    "  Y_validation = Y_validation.astype(np.int32)\n",
    "\n",
    "  return X_train, Y_train, X_validation, Y_validation\n",
    "\n",
    "def load_cifar10_train_dev(num_dev=100):\n",
    "  # randomly select and fixed for future (tracin-like strategy but their indices available only for mnist)\n",
    "  # selected_dev = np.random.randint(0, X_validation.shape[0], num_dev)\n",
    "  selected_dev = [5214, 2304, 5947, 9428, 2717, 8296, 7736, 8291, 5235, 54,\n",
    "                  7499, 9590, 3675, 1932, 6646, 8719, 6484, 6306, 3066, 2442,\n",
    "                  6106, 1949, 4320,  541, 1318, 5967, 2773, 3847, 1152, 9937,\n",
    "                  7469, 5982, 7644, 5820, 8152, 9518,  601, 3953, 4931, 1924,\n",
    "                  5342, 5467, 6718, 6779, 2860, 2440, 5480, 1178,  222, 7909,\n",
    "                  6394, 3511, 8729, 6261, 7192, 9453, 5257, 9077, 6419, 3280,\n",
    "                  3725, 3601, 8174, 5703, 4954, 9536, 4783, 2234, 7365, 2405,\n",
    "                  3073, 2780, 7461, 3525, 7573, 6764, 9962, 7527,  992,  315,\n",
    "                  6260, 9061,  592, 8003, 7594, 1930, 7215, 5124, 7531, 9471,\n",
    "                  2824, 3533, 6062, 3946, 5246, 4440,  414, 3572, 4899, 884]\n",
    "  X_train, Y_train, X_validation, Y_validation = load_standard_cifar10()\n",
    "  X_dev = X_validation[selected_dev]\n",
    "  Y_dev = Y_validation[selected_dev]\n",
    "  return X_train, Y_train, X_dev, Y_dev"
   ]
  },
  {
   "cell_type": "code",
   "execution_count": null,
   "metadata": {
    "colab": {
     "base_uri": "https://localhost:8080/"
    },
    "id": "JKnGmJWqZATn",
    "outputId": "04389947-f5d5-4405-8484-51c36129904b"
   },
   "outputs": [
    {
     "name": "stdout",
     "output_type": "stream",
     "text": [
      "Downloading data from https://www.cs.toronto.edu/~kriz/cifar-10-python.tar.gz\n",
      "170498071/170498071 [==============================] - 13s 0us/step\n"
     ]
    }
   ],
   "source": [
    "X_train, Y_train, X_dev, Y_dev = load_cifar10_train_dev()"
   ]
  },
  {
   "cell_type": "markdown",
   "metadata": {
    "id": "76HnQnS4XVGb"
   },
   "source": [
    "## TrackIn"
   ]
  },
  {
   "cell_type": "code",
   "execution_count": null,
   "metadata": {
    "id": "cwak_kRkjKMc"
   },
   "outputs": [],
   "source": [
    "EPOCHS = 90\n",
    "BATCH_SIZE = 50"
   ]
  },
  {
   "cell_type": "code",
   "execution_count": null,
   "metadata": {
    "colab": {
     "base_uri": "https://localhost:8080/"
    },
    "id": "k0i1apGpGm0K",
    "outputId": "4cfffcc7-6113-4ff6-ef6a-2c287664988d"
   },
   "outputs": [
    {
     "name": "stdout",
     "output_type": "stream",
     "text": [
      "Model: \"sequential\"\n",
      "_________________________________________________________________\n",
      " Layer (type)                Output Shape              Param #   \n",
      "=================================================================\n",
      " input (Flatten)             (None, 3072)              0         \n",
      "                                                                 \n",
      " hidden1 (Dense)             (None, 256)               786688    \n",
      "                                                                 \n",
      " hidden2 (Dense)             (None, 128)               32896     \n",
      "                                                                 \n",
      " hidden3 (Dense)             (None, 64)                8256      \n",
      "                                                                 \n",
      " hidden4 (Dense)             (None, 32)                2080      \n",
      "                                                                 \n",
      " logits (Dense)              (None, 10)                330       \n",
      "                                                                 \n",
      " softmax (Activation)        (None, 10)                0         \n",
      "                                                                 \n",
      "=================================================================\n",
      "Total params: 830,250\n",
      "Trainable params: 830,250\n",
      "Non-trainable params: 0\n",
      "_________________________________________________________________\n"
     ]
    }
   ],
   "source": [
    "def deep_model():\n",
    "  model = tf.keras.Sequential((\n",
    "      # tf.keras.layers.Flatten(input_shape=(WIDTH, WIDTH), name='input', dtype=np.float64),\n",
    "      tf.keras.layers.Flatten(input_shape=(WIDTH, WIDTH, NUM_CHANNELS), name='input', dtype=np.float64),\n",
    "      tf.keras.layers.Dense(256, name='hidden1', activation='relu', dtype=np.double),\n",
    "      tf.keras.layers.Dense(128, name='hidden2', activation='relu', dtype=np.double),\n",
    "      tf.keras.layers.Dense(64, name='hidden3', activation='relu', dtype=np.double),\n",
    "      tf.keras.layers.Dense(32, name='hidden4', activation='relu', dtype=np.double),\n",
    "      tf.keras.layers.Dense(NUM_CLASSES, name='logits', dtype=np.float64),\n",
    "      tf.keras.layers.Activation(tf.nn.softmax, name='softmax', dtype=np.float64)))\n",
    "  return model\n",
    "\n",
    "deep_model().summary()"
   ]
  },
  {
   "cell_type": "code",
   "execution_count": null,
   "metadata": {
    "colab": {
     "base_uri": "https://localhost:8080/"
    },
    "id": "xGCWwLebBhuX",
    "outputId": "462186fd-892d-46f4-e187-f25c50bfe1ce"
   },
   "outputs": [
    {
     "name": "stdout",
     "output_type": "stream",
     "text": [
      "Model: \"sequential_1\"\n",
      "_________________________________________________________________\n",
      " Layer (type)                Output Shape              Param #   \n",
      "=================================================================\n",
      " conv2d (Conv2D)             (None, 32, 32, 32)        896       \n",
      "                                                                 \n",
      " conv2d_1 (Conv2D)           (None, 32, 32, 32)        9248      \n",
      "                                                                 \n",
      " max_pooling2d (MaxPooling2D  (None, 16, 16, 32)       0         \n",
      " )                                                               \n",
      "                                                                 \n",
      " dropout (Dropout)           (None, 16, 16, 32)        0         \n",
      "                                                                 \n",
      " conv2d_2 (Conv2D)           (None, 16, 16, 64)        18496     \n",
      "                                                                 \n",
      " conv2d_3 (Conv2D)           (None, 16, 16, 64)        36928     \n",
      "                                                                 \n",
      " max_pooling2d_1 (MaxPooling  (None, 8, 8, 64)         0         \n",
      " 2D)                                                             \n",
      "                                                                 \n",
      " dropout_1 (Dropout)         (None, 8, 8, 64)          0         \n",
      "                                                                 \n",
      " conv2d_4 (Conv2D)           (None, 8, 8, 128)         73856     \n",
      "                                                                 \n",
      " conv2d_5 (Conv2D)           (None, 8, 8, 128)         147584    \n",
      "                                                                 \n",
      " max_pooling2d_2 (MaxPooling  (None, 4, 4, 128)        0         \n",
      " 2D)                                                             \n",
      "                                                                 \n",
      " dropout_2 (Dropout)         (None, 4, 4, 128)         0         \n",
      "                                                                 \n",
      " flatten (Flatten)           (None, 2048)              0         \n",
      "                                                                 \n",
      " dense (Dense)               (None, 128)               262272    \n",
      "                                                                 \n",
      " dropout_3 (Dropout)         (None, 128)               0         \n",
      "                                                                 \n",
      " dense_1 (Dense)             (None, 10)                1290      \n",
      "                                                                 \n",
      "=================================================================\n",
      "Total params: 550,570\n",
      "Trainable params: 550,570\n",
      "Non-trainable params: 0\n",
      "_________________________________________________________________\n"
     ]
    }
   ],
   "source": [
    "# equal to cnn_cifar in biased_hai project, used from a medium article\n",
    "def deep_model(inp_shape=(32,32,3)):\n",
    "\tmodel = tf.keras.Sequential()\n",
    "\tmodel.add(tf.keras.layers.Conv2D(32, (3, 3), activation='relu', kernel_initializer='he_uniform', padding='same', input_shape=inp_shape, dtype=np.float64))\n",
    "\tmodel.add(tf.keras.layers.Conv2D(32, (3, 3), activation='relu', kernel_initializer='he_uniform', padding='same', dtype=np.float64))\n",
    "\tmodel.add(tf.keras.layers.MaxPooling2D((2, 2), dtype=np.float64))\n",
    "\tmodel.add(tf.keras.layers.Dropout(0.2, dtype=np.float64))\n",
    "\tmodel.add(tf.keras.layers.Conv2D(64, (3, 3), activation='relu', kernel_initializer='he_uniform', padding='same', dtype=np.float64))\n",
    "\tmodel.add(tf.keras.layers.Conv2D(64, (3, 3), activation='relu', kernel_initializer='he_uniform', padding='same', dtype=np.float64))\n",
    "\tmodel.add(tf.keras.layers.MaxPooling2D((2, 2), dtype=np.float64))\n",
    "\tmodel.add(tf.keras.layers.Dropout(0.2, dtype=np.float64))\n",
    "\tmodel.add(tf.keras.layers.Conv2D(128, (3, 3), activation='relu', kernel_initializer='he_uniform', padding='same', dtype=np.float64))\n",
    "\tmodel.add(tf.keras.layers.Conv2D(128, (3, 3), activation='relu', kernel_initializer='he_uniform', padding='same', dtype=np.float64))\n",
    "\tmodel.add(tf.keras.layers.MaxPooling2D((2, 2), dtype=np.float64))\n",
    "\tmodel.add(tf.keras.layers.Dropout(0.2, dtype=np.float64))\n",
    "\tmodel.add(tf.keras.layers.Flatten(dtype=np.float64))\n",
    "\tmodel.add(tf.keras.layers.Dense(128, activation='relu', kernel_initializer='he_uniform', dtype=np.float64))\n",
    "\tmodel.add(tf.keras.layers.Dropout(0.2, dtype=np.float64))\n",
    "\tmodel.add(tf.keras.layers.Dense(10, activation='softmax', dtype=np.float64))\n",
    "\treturn model\n",
    "\n",
    "deep_model().summary()"
   ]
  },
  {
   "cell_type": "code",
   "execution_count": null,
   "metadata": {
    "id": "6tZS7N2ax5SM"
   },
   "outputs": [],
   "source": [
    "def concat_to_2d(vars_list):\n",
    "  \"\"\"expects all elements in list to be 2D and have the same first dim\"\"\"\n",
    "  return tf.concat([tf.reshape(v, (v.shape[0], -1)) for v in vars_list], axis=1)"
   ]
  },
  {
   "cell_type": "code",
   "execution_count": null,
   "metadata": {
    "id": "VDq-wmgBj6Jz"
   },
   "outputs": [],
   "source": [
    "def training_loop(X_train, Y_train, X_dev, Y_dev, track_grads=True):\n",
    "  num_train_examples = X_train.shape[0]\n",
    "  num_dev_examples = X_dev.shape[0]\n",
    "\n",
    "  train_dataset = tf.data.Dataset.from_tensor_slices((X_train, Y_train)).take(num_train_examples).batch(BATCH_SIZE, drop_remainder=True)\n",
    "  dev_dataset = tf.data.Dataset.from_tensor_slices((X_dev, Y_dev)).take(num_dev_examples).batch(BATCH_SIZE, drop_remainder=False)\n",
    "\n",
    "  training_loss = tf.keras.losses.SparseCategoricalCrossentropy()\n",
    "  training_accuracy = tf.keras.metrics.SparseCategoricalAccuracy(\n",
    "      'training_accuracy', dtype=tf.float32)\n",
    "\n",
    "  model = train_ckpt.model\n",
    "  step_size = train_ckpt.optimizer.get_config()['learning_rate']\n",
    "  print(model.summary())\n",
    "\n",
    "  # --- train and validation ops definition ------\n",
    "  @tf.function\n",
    "  def train_step(inputs):\n",
    "    images, labels = inputs\n",
    "    with tf.GradientTape(persistent=True) as tape:\n",
    "      softmax_preds = model(images, training=True)\n",
    "      loss = training_loss(labels, softmax_preds)\n",
    "\n",
    "      per_instance_loss = tf.keras.losses.sparse_categorical_crossentropy(labels, softmax_preds) # shape = [BATCH_SIZE]\n",
    "      tf.assert_equal(tf.rank(per_instance_loss), 1)\n",
    "\n",
    "    grads = optimizer.get_gradients(loss, model.trainable_variables)\n",
    "    optimizer.apply_gradients(zip(grads, model.trainable_variables))\n",
    "\n",
    "    training_accuracy.update_state(labels, softmax_preds)\n",
    "\n",
    "    if track_grads:\n",
    "      train_batch_dloss_dweights = concat_to_2d(tape.jacobian(per_instance_loss, model.trainable_variables))\n",
    "    return loss, train_batch_dloss_dweights\n",
    "\n",
    "  # @tf.function\n",
    "  def validation_step():\n",
    "    with tf.GradientTape(persistent=True) as tape:\n",
    "      softmax_preds = model(X_dev, training=False)\n",
    "      per_instance_loss = tf.keras.losses.sparse_categorical_crossentropy(Y_dev, softmax_preds) # shape = [BATCH_SIZE]\n",
    "    if track_grads:\n",
    "       test_dloss_dweights = concat_to_2d(tape.jacobian(per_instance_loss, model.trainable_variables))\n",
    "    return test_dloss_dweights, per_instance_loss\n",
    "\n",
    "  dev_influences = train_ckpt.dev_loss_influences.numpy()\n",
    "\n",
    "  # save initial state\n",
    "  train_steps = train_ckpt.step.numpy()\n",
    "  train_steps_per_epoch = num_train_examples // BATCH_SIZE\n",
    "  for epoch in range((train_steps//train_steps_per_epoch)+1, EPOCHS+1):\n",
    "    loss = 0.0\n",
    "\n",
    "    batch_influences_list = [] # collection of batches of influences, each item is of shape [num_dev_examples, BATCH_SIZE]\n",
    "    loss_changes_list = []\n",
    "    for inputs in train_dataset:\n",
    "      dev_loss_before = tf.keras.losses.sparse_categorical_crossentropy(Y_dev, model(X_dev, training=False))\n",
    "      loss, dloss_dweights_batch = train_step(inputs)\n",
    "      # dloss_dweights_batch = tf.stack(per_instance_dloss_dweights_list)\n",
    "      dloss_dweights_batch = dloss_dweights_batch*step_size/BATCH_SIZE # accounted for learning rate/step size and reduction here.\n",
    "\n",
    "      if track_grads:\n",
    "        # track how loss changed after every train step:\n",
    "        dev_dloss_dweights_for_train_batch, dev_loss = validation_step()\n",
    "        batch_influences = np.matmul(dev_dloss_dweights_for_train_batch, np.transpose(dloss_dweights_batch))\n",
    "        assert batch_influences.shape[0] == num_dev_examples\n",
    "        assert batch_influences.shape[1] == BATCH_SIZE\n",
    "        batch_influences_list.append(batch_influences)\n",
    "        loss_changes_list.append(dev_loss_before - dev_loss)\n",
    "\n",
    "      train_steps += 1\n",
    "    #----- end of one epoch training  ---------------------\n",
    "\n",
    "    if track_grads:\n",
    "      # end of epoch influences.\n",
    "      epoch_influences = tf.concat(batch_influences_list, axis=1)\n",
    "      loss_changes = np.stack(loss_changes_list, axis=1)\n",
    "      assert epoch_influences.shape[0] == num_dev_examples\n",
    "      assert epoch_influences.shape[1] == num_train_examples\n",
    "      dev_influences = epoch_influences\n",
    "      del(epoch_influences)\n",
    "\n",
    "    # Save final state.\n",
    "    # if tf.not_equal(train_steps, train_ckpt.step):\n",
    "    train_ckpt.step.assign(train_steps)\n",
    "    train_ckpt.dev_loss_influences.assign(dev_influences)\n",
    "    train_ckpt.dev_loss_changes.assign(loss_changes)\n",
    "    save_path = train_ckpt_manager.save()\n",
    "    print(\"Epoch last saved checkpoint for step {}: {}\".format(int(train_ckpt.step), save_path))\n",
    "    print('Training steps: ', train_steps, ' loss: ', loss, '; accuracy: ', round(training_accuracy.result().numpy() * 100, 2))\n",
    "    training_accuracy.reset_states()\n",
    "\n",
    "    gc.collect() # trigger gc after each epoch\n",
    "\n",
    "  del(train_dataset)\n",
    "  del(dev_dataset)\n",
    "  return model, dev_influences"
   ]
  },
  {
   "cell_type": "code",
   "execution_count": null,
   "metadata": {
    "id": "cMJF_ViUzXCX"
   },
   "outputs": [],
   "source": [
    "TRIAL = 1\n",
    "NUM_TRAIN = 50000\n",
    "NUM_DEV = 100"
   ]
  },
  {
   "cell_type": "code",
   "execution_count": null,
   "metadata": {
    "id": "p7clrYd_iDR3"
   },
   "outputs": [],
   "source": [
    "# optimizer = tf.keras.optimizers.SGD(lr=0.01, momentum=0.0, decay=0.0, nesterov=False)\n",
    "optimizer = tf.keras.optimizers.Adam()\n",
    "train_ckpt = tf.train.Checkpoint(\n",
    "    step=tf.Variable(0),\n",
    "    optimizer=optimizer,\n",
    "    model=deep_model(),\n",
    "    dev_loss_changes = tf.Variable(np.zeros((NUM_DEV,NUM_TRAIN//BATCH_SIZE))),\n",
    "    dev_loss_influences=tf.Variable(np.zeros((NUM_DEV, NUM_TRAIN))))\n",
    "train_ckpt_manager = tf.train.CheckpointManager(train_ckpt, BASE_DIR + '/tmp/cifar10/original/{0}/train_ckpts/'.format(TRIAL), max_to_keep=200)\n",
    "train_ckpt.model.compile(optimizer=optimizer, loss=tf.keras.losses.SparseCategoricalCrossentropy(), metrics=['accuracy'])"
   ]
  },
  {
   "cell_type": "code",
   "execution_count": null,
   "metadata": {
    "colab": {
     "base_uri": "https://localhost:8080/"
    },
    "id": "Uu49QFdTiQoR",
    "outputId": "38ad83ad-6b6f-470e-8fa1-99c7f4d1c37d"
   },
   "outputs": [
    {
     "data": {
      "text/plain": [
       "<tensorflow.python.training.tracking.util.CheckpointLoadStatus at 0x7fc0ff799050>"
      ]
     },
     "execution_count": 15,
     "metadata": {},
     "output_type": "execute_result"
    }
   ],
   "source": [
    "train_ckpt_manager.latest_checkpoint\n",
    "train_ckpt.restore(train_ckpt_manager.latest_checkpoint)"
   ]
  },
  {
   "cell_type": "markdown",
   "metadata": {
    "id": "99NFT65qnbHo"
   },
   "source": [
    "### Training and getting precise influences"
   ]
  },
  {
   "cell_type": "code",
   "execution_count": null,
   "metadata": {
    "colab": {
     "base_uri": "https://localhost:8080/"
    },
    "id": "Osvze4IACh01",
    "outputId": "58535f16-cdf0-4e06-b3b7-174e20b6c37f"
   },
   "outputs": [
    {
     "name": "stdout",
     "output_type": "stream",
     "text": [
      "Model: \"sequential_2\"\n",
      "_________________________________________________________________\n",
      " Layer (type)                Output Shape              Param #   \n",
      "=================================================================\n",
      " conv2d_6 (Conv2D)           (None, 32, 32, 32)        896       \n",
      "                                                                 \n",
      " conv2d_7 (Conv2D)           (None, 32, 32, 32)        9248      \n",
      "                                                                 \n",
      " max_pooling2d_3 (MaxPooling  (None, 16, 16, 32)       0         \n",
      " 2D)                                                             \n",
      "                                                                 \n",
      " dropout_4 (Dropout)         (None, 16, 16, 32)        0         \n",
      "                                                                 \n",
      " conv2d_8 (Conv2D)           (None, 16, 16, 64)        18496     \n",
      "                                                                 \n",
      " conv2d_9 (Conv2D)           (None, 16, 16, 64)        36928     \n",
      "                                                                 \n",
      " max_pooling2d_4 (MaxPooling  (None, 8, 8, 64)         0         \n",
      " 2D)                                                             \n",
      "                                                                 \n",
      " dropout_5 (Dropout)         (None, 8, 8, 64)          0         \n",
      "                                                                 \n",
      " conv2d_10 (Conv2D)          (None, 8, 8, 128)         73856     \n",
      "                                                                 \n",
      " conv2d_11 (Conv2D)          (None, 8, 8, 128)         147584    \n",
      "                                                                 \n",
      " max_pooling2d_5 (MaxPooling  (None, 4, 4, 128)        0         \n",
      " 2D)                                                             \n",
      "                                                                 \n",
      " dropout_6 (Dropout)         (None, 4, 4, 128)         0         \n",
      "                                                                 \n",
      " flatten_1 (Flatten)         (None, 2048)              0         \n",
      "                                                                 \n",
      " dense_2 (Dense)             (None, 128)               262272    \n",
      "                                                                 \n",
      " dropout_7 (Dropout)         (None, 128)               0         \n",
      "                                                                 \n",
      " dense_3 (Dense)             (None, 10)                1290      \n",
      "                                                                 \n",
      "=================================================================\n",
      "Total params: 550,570\n",
      "Trainable params: 550,570\n",
      "Non-trainable params: 0\n",
      "_________________________________________________________________\n",
      "None\n"
     ]
    },
    {
     "name": "stderr",
     "output_type": "stream",
     "text": [
      "WARNING:tensorflow:5 out of the last 5 calls to <function pfor.<locals>.f at 0x7fc0c09e1290> triggered tf.function retracing. Tracing is expensive and the excessive number of tracings could be due to (1) creating @tf.function repeatedly in a loop, (2) passing tensors with different shapes, (3) passing Python objects instead of tensors. For (1), please define your @tf.function outside of the loop. For (2), @tf.function has experimental_relax_shapes=True option that relaxes argument shapes that can avoid unnecessary retracing. For (3), please refer to https://www.tensorflow.org/guide/function#controlling_retracing and https://www.tensorflow.org/api_docs/python/tf/function for  more details.\n",
      "WARNING:tensorflow:6 out of the last 6 calls to <function pfor.<locals>.f at 0x7fc0c0a219e0> triggered tf.function retracing. Tracing is expensive and the excessive number of tracings could be due to (1) creating @tf.function repeatedly in a loop, (2) passing tensors with different shapes, (3) passing Python objects instead of tensors. For (1), please define your @tf.function outside of the loop. For (2), @tf.function has experimental_relax_shapes=True option that relaxes argument shapes that can avoid unnecessary retracing. For (3), please refer to https://www.tensorflow.org/guide/function#controlling_retracing and https://www.tensorflow.org/api_docs/python/tf/function for  more details.\n"
     ]
    },
    {
     "name": "stdout",
     "output_type": "stream",
     "text": [
      "Epoch last saved checkpoint for step 12000: drive/MyDrive/Colab Notebooks/SAME/sota/sota_cifar10/tmp/cifar10/original/1/train_ckpts/ckpt-12\n",
      "Training steps:  12000  loss:  tf.Tensor(0.6980465054512024, shape=(), dtype=float64) ; accuracy:  82.35\n",
      "Epoch last saved checkpoint for step 13000: drive/MyDrive/Colab Notebooks/SAME/sota/sota_cifar10/tmp/cifar10/original/1/train_ckpts/ckpt-13\n",
      "Training steps:  13000  loss:  tf.Tensor(0.5295833349227905, shape=(), dtype=float64) ; accuracy:  82.65\n",
      "Epoch last saved checkpoint for step 14000: drive/MyDrive/Colab Notebooks/SAME/sota/sota_cifar10/tmp/cifar10/original/1/train_ckpts/ckpt-14\n",
      "Training steps:  14000  loss:  tf.Tensor(0.43920138478279114, shape=(), dtype=float64) ; accuracy:  83.44\n"
     ]
    }
   ],
   "source": [
    "_, dev_influences = training_loop(X_train, Y_train, X_dev, Y_dev, track_grads=True)"
   ]
  },
  {
   "cell_type": "markdown",
   "metadata": {
    "id": "6oGSPCGNngzr"
   },
   "source": [
    "### Finding best checkpoint based on performance on entire validation set"
   ]
  },
  {
   "cell_type": "code",
   "execution_count": null,
   "metadata": {
    "colab": {
     "base_uri": "https://localhost:8080/",
     "height": 530
    },
    "id": "WMcWuKw0z_5H",
    "outputId": "692e94a8-d647-4459-fc4b-1799e9dc6d41"
   },
   "outputs": [
    {
     "data": {
      "text/plain": [
       "<matplotlib.axes._subplots.AxesSubplot at 0x7ff96eadee90>"
      ]
     },
     "execution_count": 18,
     "metadata": {},
     "output_type": "execute_result"
    },
    {
     "data": {
      "image/png": "[encoded data removed]",
      "text/plain": [
       "<Figure size 432x288 with 1 Axes>"
      ]
     },
     "metadata": {
      "needs_background": "light"
     },
     "output_type": "display_data"
    },
    {
     "data": {
      "image/png": "[encoded data removed]",
      "text/plain": [
       "<Figure size 432x288 with 1 Axes>"
      ]
     },
     "metadata": {
      "needs_background": "light"
     },
     "output_type": "display_data"
    }
   ],
   "source": [
    "_, _, X_test, Y_test = load_standard_cifar10()\n",
    "\n",
    "test_accuracies = []\n",
    "test_loss = []\n",
    "loss_fn = tf.keras.losses.SparseCategoricalCrossentropy()\n",
    "for ckpt_num in range(1, len(train_ckpt_manager.checkpoints)):\n",
    "  train_ckpt.restore(train_ckpt_manager.checkpoints[ckpt_num])\n",
    "  P_test = train_ckpt.model(X_test, training=False)\n",
    "  # test_accuracies.append(len(np.argwhere(Y_test == np.argmax(P_test, axis=1)))/100.)\n",
    "  # test_accuracies.append(len(np.argwhere(np.squeeze(Y_test) == np.argmax(P_test, axis=1)))/100.)\n",
    "  test_accuracies.append((np.squeeze(Y_test) == np.argmax(P_test, axis=1)).mean())\n",
    "  test_loss.append(loss_fn(Y_test, P_test))\n",
    "\n",
    "sns.lineplot(x=range(1,len(train_ckpt_manager.checkpoints)), y=[x.numpy() for x in test_loss])\n",
    "plt.figure()\n",
    "sns.lineplot(x=range(1,len(train_ckpt_manager.checkpoints)), y=[x for x in test_accuracies])"
   ]
  },
  {
   "cell_type": "code",
   "execution_count": null,
   "metadata": {
    "id": "0SVgiUaVDn04"
   },
   "outputs": [],
   "source": [
    "X_test, Y_test, _, _ = load_standard_cifar10()\n",
    "\n",
    "test_accuracies = []\n",
    "test_loss = []\n",
    "loss_fn = tf.keras.losses.SparseCategoricalCrossentropy()\n",
    "for ckpt_num in range(1, len(train_ckpt_manager.checkpoints)):\n",
    "  train_ckpt.restore(train_ckpt_manager.checkpoints[ckpt_num])\n",
    "  P_test = train_ckpt.model(X_test, training=True)\n",
    "  # test_accuracies.append(len(np.argwhere(Y_test == np.argmax(P_test, axis=1)))/100.)\n",
    "  test_accuracies.append((np.squeeze(Y_test) == np.argmax(P_test, axis=1)).mean())\n",
    "  test_loss.append(loss_fn(Y_test, P_test))\n",
    "\n",
    "sns.lineplot(x=range(1,len(train_ckpt_manager.checkpoints)), y=[x.numpy() for x in test_loss])\n",
    "plt.figure()\n",
    "sns.lineplot(x=range(1,len(train_ckpt_manager.checkpoints)), y=[x for x in test_accuracies])"
   ]
  },
  {
   "cell_type": "code",
   "execution_count": null,
   "metadata": {
    "id": "bUAqU7-Au7iZ"
   },
   "outputs": [],
   "source": [
    "# EARLY_STOP_CKPT = 75\n",
    "EARLY_STOP_CKPT = 11\n",
    "train_ckpt_manager.checkpoints[EARLY_STOP_CKPT-1]"
   ]
  },
  {
   "cell_type": "code",
   "execution_count": null,
   "metadata": {
    "id": "gNGWOnUJURTT"
   },
   "outputs": [],
   "source": [
    "train_ckpt.restore(train_ckpt_manager.checkpoints[EARLY_STOP_CKPT-1])\n",
    "keras.models.save_model(train_ckpt.model, BASE_DIR + '/tmp/cifar10/original/{0}/model_ckpt_25.h5'.format(TRIAL))"
   ]
  },
  {
   "cell_type": "markdown",
   "metadata": {
    "id": "1a5QMWOkZNOD"
   },
   "source": [
    "## TrackIn is first order approximation of change in loss"
   ]
  },
  {
   "cell_type": "code",
   "execution_count": null,
   "metadata": {
    "colab": {
     "base_uri": "https://localhost:8080/"
    },
    "id": "1_b2bHo_74EU",
    "outputId": "1eff221d-74a1-423b-8d27-590215408cc0"
   },
   "outputs": [
    {
     "name": "stdout",
     "output_type": "stream",
     "text": [
      "(0, 50) (0, 1) (100, 1)\n"
     ]
    }
   ],
   "source": [
    "step_influences = []\n",
    "step_losses = []\n",
    "for ckpt_num in range(1, EARLY_STOP_CKPT):\n",
    "  train_ckpt.restore(train_ckpt_manager.checkpoints[ckpt_num])\n",
    "\n",
    "  for si in range(0, NUM_TRAIN, BATCH_SIZE):\n",
    "    if ckpt_num == 1 and si == 0:\n",
    "      print((si,si+BATCH_SIZE), (si//BATCH_SIZE,(si+BATCH_SIZE)//BATCH_SIZE), train_ckpt.dev_loss_changes.numpy()[:,si//BATCH_SIZE:(si+BATCH_SIZE)//BATCH_SIZE].shape)\n",
    "    step_influences.append(np.sum(train_ckpt.dev_loss_influences.numpy()[:,si:si+BATCH_SIZE], axis=1))\n",
    "    step_losses.append(np.sum(train_ckpt.dev_loss_changes.numpy()[:,si//BATCH_SIZE:(si+BATCH_SIZE)//BATCH_SIZE], axis=1))"
   ]
  },
  {
   "cell_type": "code",
   "execution_count": null,
   "metadata": {
    "colab": {
     "base_uri": "https://localhost:8080/"
    },
    "id": "oqO_D6H3fbRS",
    "outputId": "0465c25b-0d18-4465-b048-98294924dcc9"
   },
   "outputs": [
    {
     "data": {
      "text/plain": [
       "(24000, 24000, (100,), (100,), 7200)"
      ]
     },
     "execution_count": 18,
     "metadata": {},
     "output_type": "execute_result"
    }
   ],
   "source": [
    "len(step_losses), len(step_influences), step_losses[0].shape, step_influences[0].shape, (EARLY_STOP_CKPT-1)*300  # should be 300*(num_ckpts-1)"
   ]
  },
  {
   "cell_type": "code",
   "execution_count": null,
   "metadata": {
    "id": "Ce6SWAgBXlFF"
   },
   "outputs": [],
   "source": [
    "np.savez_compressed(BASE_DIR + '/tmp/cifar10/original/{0}/dev_step_loss_deltas.npz'.format(TRIAL), step_losses)\n",
    "np.savez_compressed(BASE_DIR + '/tmp/cifar10/original/{0}/dev_step_influences.npz'.format(TRIAL), step_influences)"
   ]
  },
  {
   "cell_type": "code",
   "execution_count": null,
   "metadata": {
    "colab": {
     "base_uri": "https://localhost:8080/"
    },
    "id": "2DOfx9M5zwai",
    "outputId": "0a86e1d0-f359-4164-ee6d-020ae6e93246"
   },
   "outputs": [
    {
     "data": {
      "text/plain": [
       "((2400000,), (2400000,))"
      ]
     },
     "execution_count": 20,
     "metadata": {},
     "output_type": "execute_result"
    }
   ],
   "source": [
    "step_losses = np.reshape(np.load(BASE_DIR + '/tmp/cifar10/original/{0}/dev_step_loss_deltas.npz'.format(TRIAL))['arr_0'], (-1,))\n",
    "step_influences = np.reshape(np.load(BASE_DIR + '/tmp/cifar10/original/{0}/dev_step_influences.npz'.format(TRIAL))['arr_0'], (-1,))\n",
    "step_losses.shape, step_influences.shape"
   ]
  },
  {
   "cell_type": "code",
   "execution_count": null,
   "metadata": {
    "colab": {
     "base_uri": "https://localhost:8080/"
    },
    "id": "DepbIPOgbbGU",
    "outputId": "6177f13a-9d91-4f7a-9798-362604139a85"
   },
   "outputs": [
    {
     "name": "stdout",
     "output_type": "stream",
     "text": [
      "0.9377969299265229\n"
     ]
    }
   ],
   "source": [
    "# trying to take a correlatin of 2M points crashes, so we take a sample to get correlation.\n",
    "sample = np.random.choice(len(step_losses), len(step_losses)//100, replace=False)\n",
    "corr_delta_loss_infl = np.corrcoef(step_influences[sample], step_losses[sample])[0,1]\n",
    "print(corr_delta_loss_infl)"
   ]
  },
  {
   "cell_type": "code",
   "execution_count": null,
   "metadata": {
    "colab": {
     "base_uri": "https://localhost:8080/",
     "height": 933
    },
    "id": "C0S1LuVQ1yfG",
    "outputId": "e4ce41ab-4d40-4235-e142-9cce09e50f07"
   },
   "outputs": [
    {
     "data": {
      "image/png": "[encoded data removed]",
      "text/plain": [
       "<Figure size 1080x1080 with 1 Axes>"
      ]
     },
     "metadata": {
      "needs_background": "light"
     },
     "output_type": "display_data"
    }
   ],
   "source": [
    "plt.figure(figsize=(15,15))\n",
    "\n",
    "plt.scatter(y=step_influences, x=step_losses)\n",
    "plt.ylabel('First order apx influence', fontsize=30, labelpad=20)\n",
    "plt.xlabel('Change in loss', fontsize=30, labelpad=20)\n",
    "plt.title('Correlation: {0:.03f}'.format(corr_delta_loss_infl), fontsize=20)\n",
    "\n",
    "plt.show()"
   ]
  },
  {
   "cell_type": "markdown",
   "metadata": {
    "id": "xWYNBgyVZVpx"
   },
   "source": [
    "## Effect of checkpoints and random projections on TrackIn"
   ]
  },
  {
   "cell_type": "code",
   "execution_count": null,
   "metadata": {
    "id": "J68dFTR_aUDe"
   },
   "outputs": [],
   "source": [
    "# each checkpoint has influences for that epoch, gather those across epochs (until the best checkpoint)\n",
    "trackin_influences = np.zeros((NUM_DEV, NUM_TRAIN))\n",
    "for ckpt_num in range(1, EARLY_STOP_CKPT):\n",
    "  train_ckpt.restore(train_ckpt_manager.checkpoints[ckpt_num])\n",
    "  trackin_influences += train_ckpt.dev_loss_influences.numpy() # 100, 60000\n",
    "\n",
    "np.savez_compressed(BASE_DIR + '/tmp/cifar10/original/{0}/trackin_precise_influences.npz'.format(TRIAL), trackin_influences)"
   ]
  },
  {
   "cell_type": "code",
   "execution_count": null,
   "metadata": {
    "id": "EqB55e022yAU"
   },
   "outputs": [],
   "source": [
    "num_parameters = train_ckpt.model.count_params()\n",
    "projection_sample = np.zeros((10, num_parameters), dtype=np.float64)\n",
    "proj_list = []\n",
    "for n_components in [50, 100, 1000]:\n",
    "  proj = random_projection.GaussianRandomProjection(n_components=n_components)\n",
    "  proj.fit(projection_sample)\n",
    "  proj_list.append(proj)\n",
    "del(projection_sample)"
   ]
  },
  {
   "cell_type": "code",
   "execution_count": null,
   "metadata": {
    "id": "8aWUGl-tcWM6"
   },
   "outputs": [],
   "source": [
    "def get_loss_influences(test_loss_grads, proj_list):\n",
    "  \"\"\"Gets influences given test loss gradients\"\"\"\n",
    "  inf_loss = []\n",
    "  inf_loss_proj={}\n",
    "  test_loss_grads_proj = {}\n",
    "  for x in range(len(proj_list)):\n",
    "    inf_loss_proj[x] = []\n",
    "    test_loss_grads_proj[x]=np.transpose(proj_list[x].transform(test_loss_grads))\n",
    "\n",
    "  # K = 500\n",
    "  K = 100\n",
    "  for si in range(0, X_train.shape[0], K):\n",
    "    with tf.GradientTape() as tape:\n",
    "      pred = train_ckpt.model(X_train[si:si+K], training=False)\n",
    "      loss = tf.keras.losses.sparse_categorical_crossentropy(Y_train[si:si+K], pred)\n",
    "    loss_grads = concat_to_2d(tape.jacobian(loss, train_ckpt.model.trainable_variables))\n",
    "    inf_loss.append(np.matmul(loss_grads, np.transpose(test_loss_grads)))\n",
    "\n",
    "    for x in range(len(proj_list)):\n",
    "      proj = proj_list[x]\n",
    "      inf_loss_proj[x].append(np.matmul(proj.transform(loss_grads), test_loss_grads_proj[x]))\n",
    "    del(tape)\n",
    "    if (si%10000) == 0:\n",
    "      print(si)\n",
    "\n",
    "  for x in range(len(proj_list)):\n",
    "    inf_loss_proj[x] = np.transpose(np.concatenate(inf_loss_proj[x]))\n",
    "  return np.transpose(np.concatenate(inf_loss)), inf_loss_proj\n"
   ]
  },
  {
   "cell_type": "code",
   "execution_count": null,
   "metadata": {
    "id": "mRDeeOuXhdzl"
   },
   "outputs": [],
   "source": [
    "def get_loss_gradients(X_test, Y_test):\n",
    "  loss_grads = []\n",
    "  with tf.GradientTape() as tape:\n",
    "    pred = train_ckpt.model(X_test, training=False)\n",
    "    loss = tf.keras.losses.sparse_categorical_crossentropy(Y_test, pred)\n",
    "  return concat_to_2d(tape.jacobian(loss, train_ckpt.model.trainable_variables))"
   ]
  },
  {
   "cell_type": "code",
   "execution_count": null,
   "metadata": {
    "id": "RNVrlBHcdtgR"
   },
   "outputs": [],
   "source": [
    "loss_influences={}\n",
    "loss_influences_proj={}"
   ]
  },
  {
   "cell_type": "code",
   "execution_count": null,
   "metadata": {
    "colab": {
     "base_uri": "https://localhost:8080/"
    },
    "id": "Xjj2B0WndZt3",
    "outputId": "049342d3-c014-436f-baaa-a492e3e4416d"
   },
   "outputs": [
    {
     "name": "stderr",
     "output_type": "stream",
     "text": [
      "WARNING:tensorflow:5 out of the last 5 calls to <function pfor.<locals>.f at 0x7fbc16535950> triggered tf.function retracing. Tracing is expensive and the excessive number of tracings could be due to (1) creating @tf.function repeatedly in a loop, (2) passing tensors with different shapes, (3) passing Python objects instead of tensors. For (1), please define your @tf.function outside of the loop. For (2), @tf.function has experimental_relax_shapes=True option that relaxes argument shapes that can avoid unnecessary retracing. For (3), please refer to https://www.tensorflow.org/guide/function#controlling_retracing and https://www.tensorflow.org/api_docs/python/tf/function for  more details.\n"
     ]
    },
    {
     "name": "stdout",
     "output_type": "stream",
     "text": [
      "0\n"
     ]
    },
    {
     "name": "stderr",
     "output_type": "stream",
     "text": [
      "WARNING:tensorflow:6 out of the last 6 calls to <function pfor.<locals>.f at 0x7fbc165355f0> triggered tf.function retracing. Tracing is expensive and the excessive number of tracings could be due to (1) creating @tf.function repeatedly in a loop, (2) passing tensors with different shapes, (3) passing Python objects instead of tensors. For (1), please define your @tf.function outside of the loop. For (2), @tf.function has experimental_relax_shapes=True option that relaxes argument shapes that can avoid unnecessary retracing. For (3), please refer to https://www.tensorflow.org/guide/function#controlling_retracing and https://www.tensorflow.org/api_docs/python/tf/function for  more details.\n"
     ]
    },
    {
     "name": "stdout",
     "output_type": "stream",
     "text": [
      "10000\n",
      "20000\n",
      "30000\n",
      "40000\n",
      "0\n",
      "10000\n",
      "20000\n",
      "30000\n",
      "40000\n",
      "0\n",
      "10000\n",
      "20000\n",
      "30000\n",
      "40000\n",
      "0\n",
      "10000\n",
      "20000\n",
      "30000\n",
      "40000\n",
      "0\n",
      "10000\n",
      "20000\n",
      "30000\n",
      "40000\n",
      "0\n",
      "10000\n",
      "20000\n",
      "30000\n",
      "40000\n"
     ]
    }
   ],
   "source": [
    "# for ckpt_num in [4,14,29,44,59,74]:\n",
    "for ckpt_num in [4,8,12,16,20,24]:\n",
    "  ckpt_path = train_ckpt_manager.checkpoints[ckpt_num]\n",
    "  train_ckpt.restore(ckpt_path)\n",
    "  l, p = get_loss_influences(get_loss_gradients(X_dev, Y_dev), proj_list)\n",
    "  np.savez_compressed(BASE_DIR + '/tmp/cifar10/original/{0}/trackin_loss_infl_{1}.npz'.format(TRIAL, ckpt_num+1), l)\n",
    "  np.savez_compressed(BASE_DIR + '/tmp/cifar10/original/{0}/trackin_loss_infl_proj_{1}.npz'.format(TRIAL, ckpt_num+1), p)"
   ]
  },
  {
   "cell_type": "code",
   "execution_count": null,
   "metadata": {
    "colab": {
     "base_uri": "https://localhost:8080/",
     "height": 1000
    },
    "id": "oyTOtKdu1KMP",
    "outputId": "542a21c5-e15f-4d38-e3df-6c64bfd40d5b"
   },
   "outputs": [
    {
     "name": "stdout",
     "output_type": "stream",
     "text": [
      "0\n"
     ]
    },
    {
     "name": "stderr",
     "output_type": "stream",
     "text": [
      "WARNING:tensorflow:5 out of the last 5 calls to <function pfor.<locals>.f at 0x7f2080158c20> triggered tf.function retracing. Tracing is expensive and the excessive number of tracings could be due to (1) creating @tf.function repeatedly in a loop, (2) passing tensors with different shapes, (3) passing Python objects instead of tensors. For (1), please define your @tf.function outside of the loop. For (2), @tf.function has experimental_relax_shapes=True option that relaxes argument shapes that can avoid unnecessary retracing. For (3), please refer to https://www.tensorflow.org/guide/function#controlling_retracing and https://www.tensorflow.org/api_docs/python/tf/function for  more details.\n",
      "WARNING:tensorflow:6 out of the last 6 calls to <function pfor.<locals>.f at 0x7f2080158c20> triggered tf.function retracing. Tracing is expensive and the excessive number of tracings could be due to (1) creating @tf.function repeatedly in a loop, (2) passing tensors with different shapes, (3) passing Python objects instead of tensors. For (1), please define your @tf.function outside of the loop. For (2), @tf.function has experimental_relax_shapes=True option that relaxes argument shapes that can avoid unnecessary retracing. For (3), please refer to https://www.tensorflow.org/guide/function#controlling_retracing and https://www.tensorflow.org/api_docs/python/tf/function for  more details.\n"
     ]
    },
    {
     "name": "stdout",
     "output_type": "stream",
     "text": [
      "10000\n",
      "20000\n",
      "30000\n",
      "40000\n",
      "0\n",
      "10000\n",
      "20000\n",
      "30000\n"
     ]
    },
    {
     "name": "stderr",
     "output_type": "stream",
     "text": [
      "ERROR:root:Internal Python error in the inspect module.\n",
      "Below is the traceback from this internal error.\n",
      "\n"
     ]
    },
    {
     "name": "stdout",
     "output_type": "stream",
     "text": [
      "Traceback (most recent call last):\n",
      "  File \"/usr/local/lib/python3.7/dist-packages/IPython/core/interactiveshell.py\", line 3326, in run_code\n",
      "    exec(code_obj, self.user_global_ns, self.user_ns)\n",
      "  File \"<ipython-input-28-ca7cb0662ca1>\", line 9, in <module>\n",
      "    l, _ = get_loss_influences(get_loss_gradients(X_dev, Y_dev), [])\n",
      "  File \"<ipython-input-25-f286943793ed>\", line 16, in get_loss_influences\n",
      "    loss_grads = concat_to_2d(tape.jacobian(loss, train_ckpt.model.trainable_variables))\n",
      "  File \"/usr/local/lib/python3.7/dist-packages/tensorflow/python/eager/backprop.py\", line 1183, in jacobian\n",
      "    parallel_iterations=parallel_iterations)\n",
      "  File \"/usr/local/lib/python3.7/dist-packages/tensorflow/python/ops/parallel_for/control_flow_ops.py\", line 202, in pfor\n",
      "    outputs = f()\n",
      "  File \"/usr/local/lib/python3.7/dist-packages/tensorflow/python/util/traceback_utils.py\", line 150, in error_handler\n",
      "    return fn(*args, **kwargs)\n",
      "  File \"/usr/local/lib/python3.7/dist-packages/tensorflow/python/eager/def_function.py\", line 915, in __call__\n",
      "    result = self._call(*args, **kwds)\n",
      "  File \"/usr/local/lib/python3.7/dist-packages/tensorflow/python/eager/def_function.py\", line 963, in _call\n",
      "    self._initialize(args, kwds, add_initializers_to=initializers)\n",
      "  File \"/usr/local/lib/python3.7/dist-packages/tensorflow/python/eager/def_function.py\", line 786, in _initialize\n",
      "    *args, **kwds))\n",
      "  File \"/usr/local/lib/python3.7/dist-packages/tensorflow/python/eager/function.py\", line 2983, in _get_concrete_function_internal_garbage_collected\n",
      "    graph_function, _ = self._maybe_define_function(args, kwargs)\n",
      "  File \"/usr/local/lib/python3.7/dist-packages/tensorflow/python/eager/function.py\", line 3292, in _maybe_define_function\n",
      "    graph_function = self._create_graph_function(args, kwargs)\n",
      "  File \"/usr/local/lib/python3.7/dist-packages/tensorflow/python/eager/function.py\", line 3140, in _create_graph_function\n",
      "    capture_by_value=self._capture_by_value),\n",
      "  File \"/usr/local/lib/python3.7/dist-packages/tensorflow/python/framework/func_graph.py\", line 1161, in func_graph_from_py_func\n",
      "    func_outputs = python_func(*func_args, **func_kwargs)\n",
      "  File \"/usr/local/lib/python3.7/dist-packages/tensorflow/python/eager/def_function.py\", line 677, in wrapped_fn\n",
      "    out = weak_wrapped_fn().__wrapped__(*args, **kwds)\n",
      "  File \"/usr/local/lib/python3.7/dist-packages/tensorflow/python/framework/func_graph.py\", line 1143, in autograph_handler\n",
      "    user_requested=True,\n",
      "  File \"/usr/local/lib/python3.7/dist-packages/tensorflow/python/autograph/impl/api.py\", line 439, in converted_call\n",
      "    result = converted_f(*effective_args, **kwargs)\n",
      "  File \"/tmp/__autograph_generated_filec76twc0x.py\", line 16, in tf__f\n",
      "    retval_ = ag__.converted_call(ag__.ld(_pfor_impl), (ag__.ld(loop_fn), ag__.ld(iters)), dict(fallback_to_while_loop=ag__.ld(fallback_to_while_loop), parallel_iterations=ag__.ld(parallel_iterations)), fscope)\n",
      "  File \"/usr/local/lib/python3.7/dist-packages/tensorflow/python/autograph/impl/api.py\", line 331, in converted_call\n",
      "    return _call_unconverted(f, args, kwargs, options, False)\n",
      "  File \"/usr/local/lib/python3.7/dist-packages/tensorflow/python/autograph/impl/api.py\", line 458, in _call_unconverted\n",
      "    return f(*args, **kwargs)\n",
      "  File \"/usr/local/lib/python3.7/dist-packages/tensorflow/python/ops/parallel_for/control_flow_ops.py\", line 322, in _pfor_impl\n",
      "    output = converter.convert(loop_fn_output)\n",
      "  File \"/usr/local/lib/python3.7/dist-packages/tensorflow/python/ops/parallel_for/pfor.py\", line 1417, in convert\n",
      "    output = self._convert_helper(y)\n",
      "  File \"/usr/local/lib/python3.7/dist-packages/tensorflow/python/ops/parallel_for/pfor.py\", line 1616, in _convert_helper\n",
      "    new_outputs = converter(pfor_inputs)\n",
      "  File \"/usr/local/lib/python3.7/dist-packages/tensorflow/python/ops/parallel_for/pfor.py\", line 1020, in _f\n",
      "    return converter(pfor_input, self.op_type, *self._args, **self._kw_args)\n",
      "  File \"/usr/local/lib/python3.7/dist-packages/tensorflow/python/ops/parallel_for/pfor.py\", line 3225, in _convert_grads\n",
      "    pfor_input.stack_inputs()\n",
      "  File \"/usr/local/lib/python3.7/dist-packages/tensorflow/python/ops/parallel_for/pfor.py\", line 819, in stack_inputs\n",
      "    self._inputs[i] = _stack(inp.t, length)\n",
      "  File \"/usr/local/lib/python3.7/dist-packages/tensorflow/python/ops/parallel_for/pfor.py\", line 158, in _stack\n",
      "    length = array_ops.reshape(length, [-1])\n",
      "  File \"/usr/local/lib/python3.7/dist-packages/tensorflow/python/util/traceback_utils.py\", line 150, in error_handler\n",
      "    return fn(*args, **kwargs)\n",
      "  File \"/usr/local/lib/python3.7/dist-packages/tensorflow/python/util/dispatch.py\", line 1082, in op_dispatch_handler\n",
      "    return dispatch_target(*args, **kwargs)\n",
      "  File \"/usr/local/lib/python3.7/dist-packages/tensorflow/python/ops/array_ops.py\", line 194, in reshape\n",
      "    result = gen_array_ops.reshape(tensor, shape, name)\n",
      "  File \"/usr/local/lib/python3.7/dist-packages/tensorflow/python/ops/gen_array_ops.py\", line 8547, in reshape\n",
      "    \"Reshape\", tensor=tensor, shape=shape, name=name)\n",
      "  File \"/usr/local/lib/python3.7/dist-packages/tensorflow/python/framework/op_def_library.py\", line 742, in _apply_op_helper\n",
      "    attrs=attr_protos, op_def=op_def)\n",
      "  File \"/usr/local/lib/python3.7/dist-packages/tensorflow/python/framework/func_graph.py\", line 695, in _create_op_internal\n",
      "    compute_device)\n",
      "  File \"/usr/local/lib/python3.7/dist-packages/tensorflow/python/framework/ops.py\", line 3784, in _create_op_internal\n",
      "    op_def=op_def)\n",
      "  File \"/usr/local/lib/python3.7/dist-packages/tensorflow/python/framework/ops.py\", line 2175, in __init__\n",
      "    self._traceback = tf_stack.extract_stack_for_node(self._c_op)\n",
      "  File \"/usr/local/lib/python3.7/dist-packages/tensorflow/python/util/tf_stack.py\", line 185, in extract_stack_for_node\n",
      "    _source_filter_stacks[thread_key][-1].internal_set, node)\n",
      "KeyboardInterrupt\n",
      "\n",
      "During handling of the above exception, another exception occurred:\n",
      "\n",
      "Traceback (most recent call last):\n",
      "  File \"/usr/local/lib/python3.7/dist-packages/IPython/core/interactiveshell.py\", line 2040, in showtraceback\n",
      "    stb = value._render_traceback_()\n",
      "AttributeError: 'KeyboardInterrupt' object has no attribute '_render_traceback_'\n",
      "\n",
      "During handling of the above exception, another exception occurred:\n",
      "\n",
      "Traceback (most recent call last):\n",
      "  File \"/usr/local/lib/python3.7/dist-packages/IPython/core/ultratb.py\", line 1101, in get_records\n",
      "    return _fixed_getinnerframes(etb, number_of_lines_of_context, tb_offset)\n",
      "  File \"/usr/local/lib/python3.7/dist-packages/IPython/core/ultratb.py\", line 319, in wrapped\n",
      "    return f(*args, **kwargs)\n",
      "  File \"/usr/local/lib/python3.7/dist-packages/IPython/core/ultratb.py\", line 353, in _fixed_getinnerframes\n",
      "    records = fix_frame_records_filenames(inspect.getinnerframes(etb, context))\n",
      "  File \"/usr/lib/python3.7/inspect.py\", line 1502, in getinnerframes\n",
      "    frameinfo = (tb.tb_frame,) + getframeinfo(tb, context)\n",
      "  File \"/usr/lib/python3.7/inspect.py\", line 1460, in getframeinfo\n",
      "    filename = getsourcefile(frame) or getfile(frame)\n",
      "  File \"/usr/lib/python3.7/inspect.py\", line 696, in getsourcefile\n",
      "    if getattr(getmodule(object, filename), '__loader__', None) is not None:\n",
      "  File \"/usr/lib/python3.7/inspect.py\", line 742, in getmodule\n",
      "    os.path.realpath(f)] = module.__name__\n",
      "  File \"/usr/lib/python3.7/posixpath.py\", line 395, in realpath\n",
      "    path, ok = _joinrealpath(filename[:0], filename, {})\n",
      "  File \"/usr/lib/python3.7/posixpath.py\", line 429, in _joinrealpath\n",
      "    if not islink(newpath):\n",
      "  File \"/usr/lib/python3.7/posixpath.py\", line 171, in islink\n",
      "    st = os.lstat(path)\n",
      "KeyboardInterrupt\n"
     ]
    },
    {
     "ename": "KeyboardInterrupt",
     "evalue": "ignored",
     "output_type": "error",
     "traceback": [
      "\u001b[0;31m---------------------------------------------------------------------------\u001b[0m"
     ]
    }
   ],
   "source": [
    "for ckpt_num in [4,8,12,16,20,24]:\n",
    "  ckpt_path = train_ckpt_manager.checkpoints[ckpt_num]\n",
    "  train_ckpt.restore(ckpt_path)\n",
    "  l, _ = get_loss_influences(get_loss_gradients(X_dev, Y_dev), [])\n",
    "  np.savez_compressed(BASE_DIR + '/tmp/cifar10/original/{0}/trackin_loss_infl_{1}.npz'.format(TRIAL, ckpt_num+1), l)"
   ]
  },
  {
   "cell_type": "code",
   "execution_count": null,
   "metadata": {
    "id": "L2IUy0ZsuZmw"
   },
   "outputs": [],
   "source": [
    "accum_influences = np.zeros((100, 60000))\n",
    "accum_influences_proj = {}\n",
    "for x in range(len(proj_list)):\n",
    "  accum_influences_proj[x] = np.zeros((100, 60000))\n",
    "for ckpt_num in [4, 14, 29, 44, 59, 74]:\n",
    "  accum_influences += np.load(BASE_DIR + '/tmp/mnist/original/{0}/trackin_loss_infl_{1}.npz'.format(TRIAL, ckpt_num+1))['arr_0']\n",
    "  for x in range(len(proj_list)):\n",
    "    accum_influences_proj[x] += np.load(BASE_DIR + '/tmp/mnist/original/{0}/trackin_loss_infl_proj_{1}.npz'.format(TRIAL, ckpt_num+1), allow_pickle=True, encoding='bytes')['arr_0'].tolist()[x]\n",
    "accum_6 = np.array([np.corrcoef(accum_influences[i], trackin_influences[i])[0,1] for i in range(100)])\n",
    "\n",
    "accum_proj_6={}\n",
    "for x in range(len(proj_list)):\n",
    "  accum_proj_6[x] = np.array([np.corrcoef(accum_influences_proj[x][i], trackin_influences[i])[0,1] for i in range(100)])"
   ]
  },
  {
   "cell_type": "code",
   "execution_count": null,
   "metadata": {
    "id": "zqY5k78Yreaq"
   },
   "outputs": [],
   "source": [
    "accum_influences = np.zeros((100, 60000))\n",
    "for ckpt_num in [4, 24, 44, 64]:\n",
    "  accum_influences += np.load(BASE_DIR + '/tmp/mnist/original/{0}/trackin_loss_infl_{1}.npz'.format(TRIAL, ckpt_num+1))['arr_0']\n",
    "accum_4 = np.array([np.corrcoef(accum_influences[i], trackin_influences[i])[0,1] for i in range(100)])\n",
    "\n",
    "accum_influences = np.zeros((100, 60000))\n",
    "for ckpt_num in [24, 49, 74]:\n",
    "  accum_influences += np.load(BASE_DIR + '/tmp/mnist/original/{0}/trackin_loss_infl_{1}.npz'.format(TRIAL, ckpt_num+1))['arr_0']\n",
    "accum_3 = np.array([np.corrcoef(accum_influences[i], trackin_influences[i])[0,1] for i in range(100)])\n",
    "\n",
    "accum_influences = np.zeros((100, 60000))\n",
    "for ckpt_num in [4, 14, 24]:\n",
    "  accum_influences += np.load(BASE_DIR + '/tmp/mnist/original/{0}/trackin_loss_infl_{1}.npz'.format(TRIAL, ckpt_num+1))['arr_0']\n",
    "accum_3_high_loss = np.array([np.corrcoef(accum_influences[i], trackin_influences[i])[0,1] for i in range(100)])\n",
    "\n",
    "ckpt_35 = np.array([np.corrcoef(np.load(BASE_DIR + '/tmp/mnist/original/{0}/trackin_loss_infl_{1}.npz'.format(TRIAL, 35))['arr_0'][i], trackin_influences[i])[0,1] for i in range(100)])\n",
    "\n",
    "# some gradients towards the end are zero, adding an epsilon to get around nan issue with correlation results.\n",
    "ckpt_75 = np.array([np.corrcoef(1000*np.load(BASE_DIR + '/tmp/mnist/original/{0}/trackin_loss_infl_{1}.npz'.format(TRIAL, 75))['arr_0'][i] + 0.000001, 1000*trackin_influences[i]+ 0.000001)[0,1] for i in range(100)])"
   ]
  },
  {
   "cell_type": "code",
   "execution_count": null,
   "metadata": {
    "colab": {
     "base_uri": "https://localhost:8080/",
     "height": 781
    },
    "id": "pUiBsmm9DDZo",
    "outputId": "731a3f72-6208-4ea1-b0e3-624514ff0af9"
   },
   "outputs": [
    {
     "data": {
      "text/plain": [
       "(array([-0.2,  0. ,  0.2,  0.4,  0.6,  0.8,  1. ]),\n",
       " <a list of 7 Text major ticklabel objects>)"
      ]
     },
     "execution_count": 60,
     "metadata": {},
     "output_type": "execute_result"
    },
    {
     "data": {
      "image/png": "[encoded data removed]",
      "text/plain": [
       "<Figure size 1080x720 with 1 Axes>"
      ]
     },
     "metadata": {},
     "output_type": "display_data"
    }
   ],
   "source": [
    "cors = [ckpt_35,\n",
    "        ckpt_75,\n",
    "        accum_3,\n",
    "        accum_3_high_loss,\n",
    "        accum_4,\n",
    "        accum_6,\n",
    "        accum_proj_6[2],\n",
    "        accum_proj_6[1],\n",
    "        accum_proj_6[0]]\n",
    "\n",
    "plt.figure(figsize=(15,10))\n",
    "# plot = sns.boxplot(y=np.array(cors).T, x=['mid ckpt', 'last ckpt', '3 evenly\\n spaced ckpts', '3 ckpts with high\\n loss reduction', '4 ckpts', '6 ckpts', '6 ckpts\\n RP 1000 dim', '6 ckpts\\n RP 100 dim', '6 ckpts\\n RP 50 dim'], showfliers=False)\n",
    "###\n",
    "import pandas as pd\n",
    "df_cors = pd.DataFrame(np.array(cors).T, columns=['mid ckpt', 'last ckpt', '3 evenly\\n spaced ckpts', '3 ckpts with high\\n loss reduction', '4 ckpts', '6 ckpts', '6 ckpts\\n RP 1000 dim', '6 ckpts\\n RP 100 dim', '6 ckpts\\n RP 50 dim'])\n",
    "plot = sns.boxplot(x=\"variable\", y=\"value\", data=pd.melt(df_cors), showfliers=False)\n",
    "###\n",
    "plot.set_xticklabels(plot.get_xticklabels(), rotation=45, fontsize=20)\n",
    "plt.grid(b=True, axis='y')\n",
    "plot.set_axisbelow(True)\n",
    "plt.yticks(fontsize=20)"
   ]
  },
  {
   "cell_type": "code",
   "execution_count": null,
   "metadata": {
    "colab": {
     "base_uri": "https://localhost:8080/"
    },
    "id": "gDQDGKjWgxbC",
    "outputId": "e62d68f1-9abd-4572-d012-ef1d9a3636e4"
   },
   "outputs": [
    {
     "data": {
      "text/plain": [
       "[0.6318527656556543,\n",
       " 0.41564721840869756,\n",
       " 0.7134559164701725,\n",
       " 0.8726101513524385,\n",
       " 0.8831877741841803,\n",
       " 0.8857648247995555,\n",
       " 0.8749910519333707,\n",
       " 0.812372885053418,\n",
       " 0.7473389833072344]"
      ]
     },
     "execution_count": 61,
     "metadata": {},
     "output_type": "execute_result"
    }
   ],
   "source": [
    "[np.median(x) for x in cors]"
   ]
  }
 ],
 "metadata": {
  "accelerator": "GPU",
  "colab": {
   "provenance": []
  },
  "gpuClass": "standard",
  "kernelspec": {
   "display_name": "Python 3.9 (Default)",
   "language": "python",
   "name": "python3"
  },
  "language_info": {
   "codemirror_mode": {
    "name": "ipython",
    "version": 3
   },
   "file_extension": ".py",
   "mimetype": "text/x-python",
   "name": "python",
   "nbconvert_exporter": "python",
   "pygments_lexer": "ipython3",
   "version": "3.9.7"
  }
 },
 "nbformat": 4,
 "nbformat_minor": 4
}
