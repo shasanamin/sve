{
 "cells": [
  {
   "cell_type": "code",
   "execution_count": null,
   "metadata": {
    "id": "iKVqlaF7PrP_"
   },
   "outputs": [],
   "source": [
    "import tensorflow.compat.v1 as tf\n",
    "tf.enable_eager_execution()\n",
    "from tensorflow import keras\n",
    "import numpy as np\n",
    "import random\n",
    "import os\n",
    "import gc\n",
    "import time\n",
    "import platform\n",
    "\n",
    "from matplotlib import pyplot as plt"
   ]
  },
  {
   "cell_type": "code",
   "execution_count": null,
   "metadata": {
    "id": "NsOawdUMoL8s"
   },
   "outputs": [],
   "source": [
    "BASE_DIR = \"\"\n",
    "NUM_CLASSES=10\n",
    "WIDTH = 28\n",
    "NUM_CHANNELS = 1\n",
    "\n",
    "def _normalize(X):\n",
    "  assert X.dtype == np.uint8\n",
    "  X = X.astype(np.float64)\n",
    "  X /= 255\n",
    "  return X\n",
    "\n",
    "def load_standard_mnist():\n",
    "  (X_train, Y_train), (X_validation, Y_validation) = tf.keras.datasets.mnist.load_data(path='mnist.npz')\n",
    "  X_train = X_train.reshape(X_train.shape[0], WIDTH, WIDTH, 1)\n",
    "  X_validation = X_validation.reshape(X_validation.shape[0], WIDTH, WIDTH, 1)\n",
    "\n",
    "  X_train = _normalize(X_train)\n",
    "  X_validation = _normalize(X_validation)\n",
    "\n",
    "  Y_train = Y_train.astype(np.int32)\n",
    "  Y_validation = Y_validation.astype(np.int32)\n",
    "\n",
    "  return X_train, Y_train, X_validation, Y_validation\n",
    "\n",
    "def load_mnist_train_dev():\n",
    "  # these were randomly picked, then fixed for future\n",
    "  selected_dev = [8106, 9910, 3397, 8870, 2103, 5689, 9799, 4037, 1584, 1160, 9063,\n",
    "       1332, 3043, 8307, 1042, 3466, 7772, 7327, 7098, 7216, 8624, 6400,\n",
    "       5811, 1862, 7327, 1626, 5958, 3868, 3795,  836, 3406, 5570, 9535,\n",
    "       9653, 7890, 5671, 2451, 9175, 8310, 2425, 5923, 2797, 1150, 6012,\n",
    "       8666, 8849, 6839, 5994, 6751, 9139, 9648, 8898, 9869, 2184, 1363,\n",
    "       8294, 4000, 5424, 4544,  330, 4325, 4597, 4735, 9966, 2342, 7220,\n",
    "       5774, 3437, 4276,  760, 7868, 2993, 6262, 8880, 6017, 5045, 9513,\n",
    "       4084, 7115, 5775,  358, 3549, 2612, 8973, 6747,  415, 8573, 9973,\n",
    "       2734,  586, 3937, 6889, 1191, 5255, 1460,  413, 7257, 5272, 7402,\n",
    "       7968]\n",
    "  X_train, Y_train, X_validation, Y_validation = load_standard_mnist()\n",
    "  X_dev = X_validation[selected_dev]\n",
    "  Y_dev = Y_validation[selected_dev]\n",
    "  return X_train, Y_train, X_dev, Y_dev"
   ]
  },
  {
   "cell_type": "code",
   "execution_count": null,
   "metadata": {
    "colab": {
     "base_uri": "https://localhost:8080/"
    },
    "executionInfo": {
     "elapsed": 353,
     "status": "ok",
     "timestamp": 1661568965313,
     "user": {
      "displayName": "Hasan Amin",
      "userId": "17461130678708299500"
     },
     "user_tz": 240
    },
    "id": "eaBSs5ZNoNMb",
    "outputId": "5b59a5cb-066f-491b-f0ef-8b5f2849c6af"
   },
   "outputs": [
    {
     "name": "stdout",
     "output_type": "stream",
     "text": [
      "Downloading data from https://storage.googleapis.com/tensorflow/tf-keras-datasets/mnist.npz\n",
      "11493376/11490434 [==============================] - 0s 0us/step\n",
      "11501568/11490434 [==============================] - 0s 0us/step\n"
     ]
    }
   ],
   "source": [
    "X_train, Y_train, X_dev, Y_dev = load_mnist_train_dev()"
   ]
  },
  {
   "cell_type": "code",
   "execution_count": null,
   "metadata": {
    "id": "TWX-wsRauF9a"
   },
   "outputs": [],
   "source": [
    "# using prediction as embedding\n",
    "def euclidean_dist(X, y, axis=1):\n",
    "    return np.sqrt(((X - y)**2).sum(axis=axis))\n",
    "\n",
    "def get_similarity(m, x, X_train):\n",
    "  # X_train: (Entire) training set\n",
    "  # x: single data point\n",
    "  X_emb_tr = m.predict(X_train)\n",
    "  x_emb = m.predict(x[np.newaxis,:])\n",
    "\n",
    "  # can be another distance as well\n",
    "  similarity = euclidean_dist(X_emb_tr, x_emb, axis=1)\n",
    "  return similarity\n",
    "\n",
    "latexp_sim = [get_similarity(model, x, X_train) for x in X_dev]"
   ]
  },
  {
   "cell_type": "code",
   "execution_count": null,
   "metadata": {
    "id": "5KkG8ONvv3wC"
   },
   "outputs": [],
   "source": [
    "latexp_infl = -1*np.array(latexp_sim)\n",
    "latexp_infl.shape"
   ]
  },
  {
   "cell_type": "code",
   "execution_count": null,
   "metadata": {
    "id": "rvDdAfwK3eYc"
   },
   "outputs": [],
   "source": [
    "np.save(BASE_DIR + '/pred_infl.npy', latexp_infl, allow_pickle=True)"
   ]
  },
  {
   "cell_type": "code",
   "execution_count": null,
   "metadata": {
    "id": "WHr2Q8qF4PtI"
   },
   "outputs": [],
   "source": [
    "pred_infl = np.load(BASE_DIR + '/pred_infl.npy', allow_pickle=True)"
   ]
  },
  {
   "cell_type": "code",
   "execution_count": null,
   "metadata": {},
   "outputs": [],
   "source": [
    "from tensorflow.keras.models import Model\n",
    "\n",
    "# using penultimate layer as embedding\n",
    "def euclidean_dist(X, y, axis=1):\n",
    "    return np.sqrt(((X - y)**2).sum(axis=axis))\n",
    "\n",
    "def get_similarity(m, x, X_train):\n",
    "  # X_train: (Entire) training set\n",
    "  # x: single data point\n",
    "  m_p = Model(m.inputs, m.layers[-3].output)  # penultimate layer output (last 2 layers here for logit and softmax)\n",
    "\n",
    "  X_emb_tr = m_p.predict(X_train)\n",
    "  print(X_emb_tr.shape)\n",
    "  x_emb = m_p.predict(x[np.newaxis,:])\n",
    "\n",
    "  # can be another distance as well\n",
    "  similarity = euclidean_dist(X_emb_tr, x_emb, axis=1)\n",
    "  return similarity\n",
    "\n",
    "penult_sim = [get_similarity(model, x, X_train) for x in X_dev]"
   ]
  },
  {
   "cell_type": "code",
   "execution_count": null,
   "metadata": {},
   "outputs": [],
   "source": [
    "penult_infl = -1*np.array(penult_sim)\n",
    "penult_infl.shape\n",
    "np.save(BASE_DIR + '/penult_infl.npy', penult_infl, allow_pickle=True)"
   ]
  }
 ],
 "metadata": {
  "colab": {
   "provenance": []
  },
  "gpuClass": "standard",
  "kernelspec": {
   "display_name": "Python 3.9 (Default)",
   "language": "python",
   "name": "python3"
  },
  "language_info": {
   "codemirror_mode": {
    "name": "ipython",
    "version": 3
   },
   "file_extension": ".py",
   "mimetype": "text/x-python",
   "name": "python",
   "nbconvert_exporter": "python",
   "pygments_lexer": "ipython3",
   "version": "3.9.7"
  }
 },
 "nbformat": 4,
 "nbformat_minor": 4
}
