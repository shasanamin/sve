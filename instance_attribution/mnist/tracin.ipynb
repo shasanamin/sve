{
 "cells": [
  {
   "cell_type": "code",
   "execution_count": 2,
   "metadata": {
    "executionInfo": {
     "elapsed": 6972,
     "status": "ok",
     "timestamp": 1661663229501,
     "user": {
      "displayName": "Hasan Amin",
      "userId": "17461130678708299500"
     },
     "user_tz": 240
    },
    "id": "M93JiXInV7a8"
   },
   "outputs": [],
   "source": [
    "import tensorflow.compat.v1 as tf\n",
    "tf.enable_eager_execution()\n",
    "from tensorflow import keras\n",
    "import numpy as np\n",
    "import random\n",
    "import os\n",
    "import gc\n",
    "import time\n",
    "import platform\n",
    "\n",
    "from sklearn import random_projection\n",
    "\n",
    "from matplotlib import pyplot as plt\n",
    "import seaborn as sns"
   ]
  },
  {
   "cell_type": "markdown",
   "metadata": {
    "id": "U7WV0D1FW9DG"
   },
   "source": [
    "## Data loading"
   ]
  },
  {
   "cell_type": "code",
   "execution_count": 3,
   "metadata": {
    "executionInfo": {
     "elapsed": 10,
     "status": "ok",
     "timestamp": 1661663229503,
     "user": {
      "displayName": "Hasan Amin",
      "userId": "17461130678708299500"
     },
     "user_tz": 240
    },
    "id": "-OZy0xoWwH4j"
   },
   "outputs": [],
   "source": [
    "NUM_CLASSES=10\n",
    "WIDTH = 28\n",
    "NUM_CHANNELS = 1\n",
    "\n",
    "def _normalize(X):\n",
    "  assert X.dtype == np.uint8\n",
    "  X = X.astype(np.float64)\n",
    "  X /= 255\n",
    "  return X\n",
    "\n",
    "def load_standard_mnist():\n",
    "  (X_train, Y_train), (X_validation, Y_validation) = tf.keras.datasets.mnist.load_data(path='mnist.npz')\n",
    "  X_train = X_train.reshape(X_train.shape[0], WIDTH, WIDTH, 1)\n",
    "  X_validation = X_validation.reshape(X_validation.shape[0], WIDTH, WIDTH, 1)\n",
    "\n",
    "  X_train = _normalize(X_train)\n",
    "  X_validation = _normalize(X_validation)\n",
    "\n",
    "  Y_train = Y_train.astype(np.int32)\n",
    "  Y_validation = Y_validation.astype(np.int32)\n",
    "\n",
    "  return X_train, Y_train, X_validation, Y_validation\n",
    "\n",
    "def load_mnist_train_dev():\n",
    "  # these were randomly picked, then fixed for future\n",
    "  selected_dev = [8106, 9910, 3397, 8870, 2103, 5689, 9799, 4037, 1584, 1160, 9063,\n",
    "       1332, 3043, 8307, 1042, 3466, 7772, 7327, 7098, 7216, 8624, 6400,\n",
    "       5811, 1862, 7327, 1626, 5958, 3868, 3795,  836, 3406, 5570, 9535,\n",
    "       9653, 7890, 5671, 2451, 9175, 8310, 2425, 5923, 2797, 1150, 6012,\n",
    "       8666, 8849, 6839, 5994, 6751, 9139, 9648, 8898, 9869, 2184, 1363,\n",
    "       8294, 4000, 5424, 4544,  330, 4325, 4597, 4735, 9966, 2342, 7220,\n",
    "       5774, 3437, 4276,  760, 7868, 2993, 6262, 8880, 6017, 5045, 9513,\n",
    "       4084, 7115, 5775,  358, 3549, 2612, 8973, 6747,  415, 8573, 9973,\n",
    "       2734,  586, 3937, 6889, 1191, 5255, 1460,  413, 7257, 5272, 7402,\n",
    "       7968]\n",
    "  X_train, Y_train, X_validation, Y_validation = load_standard_mnist()\n",
    "  X_dev = X_validation[selected_dev]\n",
    "  Y_dev = Y_validation[selected_dev]\n",
    "  return X_train, Y_train, X_dev, Y_dev"
   ]
  },
  {
   "cell_type": "code",
   "execution_count": 4,
   "metadata": {
    "colab": {
     "base_uri": "https://localhost:8080/"
    },
    "executionInfo": {
     "elapsed": 1423,
     "status": "ok",
     "timestamp": 1661663230918,
     "user": {
      "displayName": "Hasan Amin",
      "userId": "17461130678708299500"
     },
     "user_tz": 240
    },
    "id": "JKnGmJWqZATn",
    "outputId": "4061843e-b912-4306-997b-22ef6341dc1b"
   },
   "outputs": [
    {
     "name": "stdout",
     "output_type": "stream",
     "text": [
      "Downloading data from https://storage.googleapis.com/tensorflow/tf-keras-datasets/mnist.npz\n",
      "11493376/11490434 [==============================] - 0s 0us/step\n",
      "11501568/11490434 [==============================] - 0s 0us/step\n"
     ]
    }
   ],
   "source": [
    "X_train, Y_train, X_dev, Y_dev = load_mnist_train_dev()"
   ]
  },
  {
   "cell_type": "markdown",
   "metadata": {
    "id": "76HnQnS4XVGb"
   },
   "source": [
    "## TrackIn"
   ]
  },
  {
   "cell_type": "code",
   "execution_count": null,
   "metadata": {
    "id": "lbiK9SFkRKeC"
   },
   "outputs": [],
   "source": [
    "BASE_DIR = \"\""
   ]
  },
  {
   "cell_type": "code",
   "execution_count": null,
   "metadata": {
    "id": "cwak_kRkjKMc"
   },
   "outputs": [],
   "source": [
    "EPOCHS = 90\n",
    "BATCH_SIZE = 200"
   ]
  },
  {
   "cell_type": "code",
   "execution_count": null,
   "metadata": {
    "id": "rmfEaKlPzSjs"
   },
   "outputs": [],
   "source": [
    "def deep_model():\n",
    "  model = tf.keras.Sequential((\n",
    "      tf.keras.layers.Flatten(input_shape=(WIDTH, WIDTH), name='input', dtype=np.float64),\n",
    "      tf.keras.layers.Dense(256, name='hidden1', activation='relu', dtype=np.double),\n",
    "      tf.keras.layers.Dense(128, name='hidden2', activation='relu', dtype=np.double),\n",
    "      tf.keras.layers.Dense(64, name='hidden3', activation='relu', dtype=np.double),\n",
    "      tf.keras.layers.Dense(32, name='hidden4', activation='relu', dtype=np.double),\n",
    "      tf.keras.layers.Dense(NUM_CLASSES, name='logits', dtype=np.float64),\n",
    "      tf.keras.layers.Activation(tf.nn.softmax, name='softmax', dtype=np.float64)))\n",
    "  return model"
   ]
  },
  {
   "cell_type": "code",
   "execution_count": null,
   "metadata": {
    "id": "6tZS7N2ax5SM"
   },
   "outputs": [],
   "source": [
    "def concat_to_2d(vars_list):\n",
    "  \"\"\"expects all elements in list to be 2D and have the same first dim\"\"\"\n",
    "  return tf.concat([tf.reshape(v, (v.shape[0], -1)) for v in vars_list], axis=1)"
   ]
  },
  {
   "cell_type": "code",
   "execution_count": null,
   "metadata": {
    "id": "VDq-wmgBj6Jz"
   },
   "outputs": [],
   "source": [
    "def training_loop(X_train, Y_train, X_dev, Y_dev, track_grads=True):\n",
    "  num_train_examples = X_train.shape[0]\n",
    "  num_dev_examples = X_dev.shape[0]\n",
    "\n",
    "  train_dataset = tf.data.Dataset.from_tensor_slices((X_train, Y_train)).take(num_train_examples).batch(BATCH_SIZE, drop_remainder=True)\n",
    "  dev_dataset = tf.data.Dataset.from_tensor_slices((X_dev, Y_dev)).take(num_dev_examples).batch(BATCH_SIZE, drop_remainder=False)\n",
    "\n",
    "  training_loss = tf.keras.losses.SparseCategoricalCrossentropy()\n",
    "  training_accuracy = tf.keras.metrics.SparseCategoricalAccuracy(\n",
    "      'training_accuracy', dtype=tf.float32)\n",
    "\n",
    "  model = train_ckpt.model\n",
    "  step_size = train_ckpt.optimizer.get_config()['learning_rate']\n",
    "  print(model.summary())\n",
    "  \n",
    "  # --- train and validation ops definition ------\n",
    "  @tf.function\n",
    "  def train_step(inputs):\n",
    "    images, labels = inputs\n",
    "    with tf.GradientTape(persistent=True) as tape:\n",
    "      softmax_preds = model(images, training=True)\n",
    "      loss = training_loss(labels, softmax_preds)\n",
    "\n",
    "      per_instance_loss = tf.keras.losses.sparse_categorical_crossentropy(labels, softmax_preds) # shape = [BATCH_SIZE]\n",
    "      tf.assert_equal(tf.rank(per_instance_loss), 1)\n",
    "    \n",
    "    grads = optimizer.get_gradients(loss, model.trainable_variables)\n",
    "    optimizer.apply_gradients(zip(grads, model.trainable_variables))\n",
    "    \n",
    "    training_accuracy.update_state(labels, softmax_preds)\n",
    "    \n",
    "    if track_grads:\n",
    "      train_batch_dloss_dweights = concat_to_2d(tape.jacobian(per_instance_loss, model.trainable_variables))\n",
    "    return loss, train_batch_dloss_dweights\n",
    "\n",
    "  # @tf.function\n",
    "  def validation_step():\n",
    "    with tf.GradientTape(persistent=True) as tape:\n",
    "      softmax_preds = model(X_dev, training=False)\n",
    "      per_instance_loss = tf.keras.losses.sparse_categorical_crossentropy(Y_dev, softmax_preds) # shape = [BATCH_SIZE]\n",
    "    if track_grads:\n",
    "       test_dloss_dweights = concat_to_2d(tape.jacobian(per_instance_loss, model.trainable_variables))\n",
    "    return test_dloss_dweights, per_instance_loss\n",
    "\n",
    "  dev_influences = train_ckpt.dev_loss_influences.numpy()\n",
    "\n",
    "  # save initial state\n",
    "  train_steps = train_ckpt.step.numpy()\n",
    "  train_steps_per_epoch = num_train_examples // BATCH_SIZE\n",
    "  for epoch in range((train_steps//train_steps_per_epoch)+1, EPOCHS+1):\n",
    "    loss = 0.0\n",
    "\n",
    "    batch_influences_list = [] # collection of batches of influences, each item is of shape [num_dev_examples, BATCH_SIZE]\n",
    "    loss_changes_list = []\n",
    "    for inputs in train_dataset:\n",
    "      dev_loss_before = tf.keras.losses.sparse_categorical_crossentropy(Y_dev, model(X_dev, training=False))\n",
    "      loss, dloss_dweights_batch = train_step(inputs)\n",
    "      # dloss_dweights_batch = tf.stack(per_instance_dloss_dweights_list)\n",
    "      dloss_dweights_batch = dloss_dweights_batch*step_size/BATCH_SIZE # accounted for learning rate/step size and reduction here.\n",
    "\n",
    "      if track_grads:\n",
    "        # track how loss changed after every train step:\n",
    "        dev_dloss_dweights_for_train_batch, dev_loss = validation_step()\n",
    "        batch_influences = np.matmul(dev_dloss_dweights_for_train_batch, np.transpose(dloss_dweights_batch))\n",
    "        assert batch_influences.shape[0] == num_dev_examples\n",
    "        assert batch_influences.shape[1] == BATCH_SIZE\n",
    "        batch_influences_list.append(batch_influences)\n",
    "        loss_changes_list.append(dev_loss_before - dev_loss)\n",
    "\n",
    "      train_steps += 1\n",
    "    #----- end of one epoch training  ---------------------\n",
    "\n",
    "    if track_grads:\n",
    "      # end of epoch influences.\n",
    "      epoch_influences = tf.concat(batch_influences_list, axis=1)\n",
    "      loss_changes = np.stack(loss_changes_list, axis=1)\n",
    "      assert epoch_influences.shape[0] == num_dev_examples\n",
    "      assert epoch_influences.shape[1] == num_train_examples\n",
    "      dev_influences = epoch_influences\n",
    "      del(epoch_influences)\n",
    "\n",
    "    # Save final state.\n",
    "    # if tf.not_equal(train_steps, train_ckpt.step):\n",
    "    train_ckpt.step.assign(train_steps)\n",
    "    train_ckpt.dev_loss_influences.assign(dev_influences)\n",
    "    train_ckpt.dev_loss_changes.assign(loss_changes)\n",
    "    save_path = train_ckpt_manager.save()\n",
    "    print(\"Epoch last saved checkpoint for step {}: {}\".format(int(train_ckpt.step), save_path))\n",
    "    print('Training steps: ', train_steps, ' loss: ', loss, '; accuracy: ', round(training_accuracy.result().numpy() * 100, 2))\n",
    "    training_accuracy.reset_states()\n",
    "\n",
    "    gc.collect() # trigger gc after each epoch\n",
    "\n",
    "  del(train_dataset)\n",
    "  del(dev_dataset)\n",
    "  return model, dev_influences"
   ]
  },
  {
   "cell_type": "code",
   "execution_count": null,
   "metadata": {
    "id": "cMJF_ViUzXCX"
   },
   "outputs": [],
   "source": [
    "TRIAL = 1"
   ]
  },
  {
   "cell_type": "code",
   "execution_count": null,
   "metadata": {
    "colab": {
     "base_uri": "https://localhost:8080/"
    },
    "executionInfo": {
     "elapsed": 2753,
     "status": "ok",
     "timestamp": 1645146102570,
     "user": {
      "displayName": "Hasan Amin",
      "photoUrl": "https://lh3.googleusercontent.com/a-/AOh14Gj3kp8k_QR5n481JXJjNGoiBLUorNBkkT2NPcEbOA=s64",
      "userId": "17461130678708299500"
     },
     "user_tz": 300
    },
    "id": "p7clrYd_iDR3",
    "outputId": "1bad6efd-0288-4007-fda9-146b7a72e0ec"
   },
   "outputs": [
    {
     "name": "stderr",
     "output_type": "stream",
     "text": [
      "/usr/local/lib/python3.7/dist-packages/keras/optimizer_v2/gradient_descent.py:102: UserWarning: The `lr` argument is deprecated, use `learning_rate` instead.\n",
      "  super(SGD, self).__init__(name, **kwargs)\n"
     ]
    }
   ],
   "source": [
    "optimizer = tf.keras.optimizers.SGD(lr=0.01, momentum=0.0, decay=0.0, nesterov=False)\n",
    "train_ckpt = tf.train.Checkpoint(\n",
    "    step=tf.Variable(0),\n",
    "    optimizer=optimizer,\n",
    "    model=deep_model(),\n",
    "    dev_loss_changes = tf.Variable(np.zeros((100,60000//BATCH_SIZE))),\n",
    "    dev_loss_influences=tf.Variable(np.zeros((100, 60000))))\n",
    "train_ckpt_manager = tf.train.CheckpointManager(train_ckpt, BASE_DIR + '/tmp/mnist/original/{0}/train_ckpts/'.format(TRIAL), max_to_keep=200)\n",
    "train_ckpt.model.compile(optimizer=optimizer, loss=tf.keras.losses.SparseCategoricalCrossentropy(), metrics=['accuracy'])"
   ]
  },
  {
   "cell_type": "code",
   "execution_count": null,
   "metadata": {
    "colab": {
     "base_uri": "https://localhost:8080/"
    },
    "executionInfo": {
     "elapsed": 141,
     "status": "ok",
     "timestamp": 1645146103305,
     "user": {
      "displayName": "Hasan Amin",
      "photoUrl": "https://lh3.googleusercontent.com/a-/AOh14Gj3kp8k_QR5n481JXJjNGoiBLUorNBkkT2NPcEbOA=s64",
      "userId": "17461130678708299500"
     },
     "user_tz": 300
    },
    "id": "Uu49QFdTiQoR",
    "outputId": "e472ee21-a6ff-4728-e2fe-1241087fcd8b"
   },
   "outputs": [
    {
     "data": {
      "text/plain": [
       "<tensorflow.python.training.tracking.util.InitializationOnlyStatus at 0x7f856049ea10>"
      ]
     },
     "execution_count": 13,
     "metadata": {},
     "output_type": "execute_result"
    }
   ],
   "source": [
    "train_ckpt_manager.latest_checkpoint\n",
    "train_ckpt.restore(train_ckpt_manager.latest_checkpoint)"
   ]
  },
  {
   "cell_type": "markdown",
   "metadata": {
    "id": "99NFT65qnbHo"
   },
   "source": [
    "### Training and getting precise influences"
   ]
  },
  {
   "cell_type": "code",
   "execution_count": null,
   "metadata": {
    "colab": {
     "base_uri": "https://localhost:8080/"
    },
    "executionInfo": {
     "elapsed": 24999894,
     "status": "ok",
     "timestamp": 1645171106206,
     "user": {
      "displayName": "Hasan Amin",
      "photoUrl": "https://lh3.googleusercontent.com/a-/AOh14Gj3kp8k_QR5n481JXJjNGoiBLUorNBkkT2NPcEbOA=s64",
      "userId": "17461130678708299500"
     },
     "user_tz": 300
    },
    "id": "Osvze4IACh01",
    "outputId": "07066ba8-6ec3-4af6-a613-74ab0ea52f21"
   },
   "outputs": [
    {
     "name": "stdout",
     "output_type": "stream",
     "text": [
      "Model: \"sequential\"\n",
      "_________________________________________________________________\n",
      " Layer (type)                Output Shape              Param #   \n",
      "=================================================================\n",
      " input (Flatten)             (None, 784)               0         \n",
      "                                                                 \n",
      " hidden1 (Dense)             (None, 256)               200960    \n",
      "                                                                 \n",
      " hidden2 (Dense)             (None, 128)               32896     \n",
      "                                                                 \n",
      " hidden3 (Dense)             (None, 64)                8256      \n",
      "                                                                 \n",
      " hidden4 (Dense)             (None, 32)                2080      \n",
      "                                                                 \n",
      " logits (Dense)              (None, 10)                330       \n",
      "                                                                 \n",
      " softmax (Activation)        (None, 10)                0         \n",
      "                                                                 \n",
      "=================================================================\n",
      "Total params: 244,522\n",
      "Trainable params: 244,522\n",
      "Non-trainable params: 0\n",
      "_________________________________________________________________\n",
      "None\n",
      "WARNING:tensorflow:5 out of the last 5 calls to <function pfor.<locals>.f at 0x7f8560094ef0> triggered tf.function retracing. Tracing is expensive and the excessive number of tracings could be due to (1) creating @tf.function repeatedly in a loop, (2) passing tensors with different shapes, (3) passing Python objects instead of tensors. For (1), please define your @tf.function outside of the loop. For (2), @tf.function has experimental_relax_shapes=True option that relaxes argument shapes that can avoid unnecessary retracing. For (3), please refer to https://www.tensorflow.org/guide/function#controlling_retracing and https://www.tensorflow.org/api_docs/python/tf/function for  more details.\n",
      "WARNING:tensorflow:6 out of the last 6 calls to <function pfor.<locals>.f at 0x7f8575d4eb00> triggered tf.function retracing. Tracing is expensive and the excessive number of tracings could be due to (1) creating @tf.function repeatedly in a loop, (2) passing tensors with different shapes, (3) passing Python objects instead of tensors. For (1), please define your @tf.function outside of the loop. For (2), @tf.function has experimental_relax_shapes=True option that relaxes argument shapes that can avoid unnecessary retracing. For (3), please refer to https://www.tensorflow.org/guide/function#controlling_retracing and https://www.tensorflow.org/api_docs/python/tf/function for  more details.\n",
      "Epoch last saved checkpoint for step 300: drive/MyDrive/Colab Notebooks/sota_mnist/tmp/mnist/original/1/train_ckpts/ckpt-1\n",
      "Training steps:  300  loss:  tf.Tensor(1.0454884767532349, shape=(), dtype=float64) ; accuracy:  47.37\n",
      "Epoch last saved checkpoint for step 600: drive/MyDrive/Colab Notebooks/sota_mnist/tmp/mnist/original/1/train_ckpts/ckpt-2\n",
      "Training steps:  600  loss:  tf.Tensor(0.3288044035434723, shape=(), dtype=float64) ; accuracy:  82.45\n",
      "Epoch last saved checkpoint for step 900: drive/MyDrive/Colab Notebooks/sota_mnist/tmp/mnist/original/1/train_ckpts/ckpt-3\n",
      "Training steps:  900  loss:  tf.Tensor(0.2264847755432129, shape=(), dtype=float64) ; accuracy:  88.18\n",
      "Epoch last saved checkpoint for step 1200: drive/MyDrive/Colab Notebooks/sota_mnist/tmp/mnist/original/1/train_ckpts/ckpt-4\n",
      "Training steps:  1200  loss:  tf.Tensor(0.19121256470680237, shape=(), dtype=float64) ; accuracy:  89.98\n",
      "Epoch last saved checkpoint for step 1500: drive/MyDrive/Colab Notebooks/sota_mnist/tmp/mnist/original/1/train_ckpts/ckpt-5\n",
      "Training steps:  1500  loss:  tf.Tensor(0.17185258865356445, shape=(), dtype=float64) ; accuracy:  91.02\n",
      "Epoch last saved checkpoint for step 1800: drive/MyDrive/Colab Notebooks/sota_mnist/tmp/mnist/original/1/train_ckpts/ckpt-6\n",
      "Training steps:  1800  loss:  tf.Tensor(0.1598905622959137, shape=(), dtype=float64) ; accuracy:  91.75\n",
      "Epoch last saved checkpoint for step 2100: drive/MyDrive/Colab Notebooks/sota_mnist/tmp/mnist/original/1/train_ckpts/ckpt-7\n",
      "Training steps:  2100  loss:  tf.Tensor(0.15080323815345764, shape=(), dtype=float64) ; accuracy:  92.36\n",
      "Epoch last saved checkpoint for step 2400: drive/MyDrive/Colab Notebooks/sota_mnist/tmp/mnist/original/1/train_ckpts/ckpt-8\n",
      "Training steps:  2400  loss:  tf.Tensor(0.144037663936615, shape=(), dtype=float64) ; accuracy:  92.84\n",
      "Epoch last saved checkpoint for step 2700: drive/MyDrive/Colab Notebooks/sota_mnist/tmp/mnist/original/1/train_ckpts/ckpt-9\n",
      "Training steps:  2700  loss:  tf.Tensor(0.1384032517671585, shape=(), dtype=float64) ; accuracy:  93.27\n",
      "Epoch last saved checkpoint for step 3000: drive/MyDrive/Colab Notebooks/sota_mnist/tmp/mnist/original/1/train_ckpts/ckpt-10\n",
      "Training steps:  3000  loss:  tf.Tensor(0.13337388634681702, shape=(), dtype=float64) ; accuracy:  93.68\n",
      "Epoch last saved checkpoint for step 3300: drive/MyDrive/Colab Notebooks/sota_mnist/tmp/mnist/original/1/train_ckpts/ckpt-11\n",
      "Training steps:  3300  loss:  tf.Tensor(0.12916097044944763, shape=(), dtype=float64) ; accuracy:  94.07\n",
      "Epoch last saved checkpoint for step 3600: drive/MyDrive/Colab Notebooks/sota_mnist/tmp/mnist/original/1/train_ckpts/ckpt-12\n",
      "Training steps:  3600  loss:  tf.Tensor(0.12511830031871796, shape=(), dtype=float64) ; accuracy:  94.34\n",
      "Epoch last saved checkpoint for step 3900: drive/MyDrive/Colab Notebooks/sota_mnist/tmp/mnist/original/1/train_ckpts/ckpt-13\n",
      "Training steps:  3900  loss:  tf.Tensor(0.12140443921089172, shape=(), dtype=float64) ; accuracy:  94.6\n",
      "Epoch last saved checkpoint for step 4200: drive/MyDrive/Colab Notebooks/sota_mnist/tmp/mnist/original/1/train_ckpts/ckpt-14\n",
      "Training steps:  4200  loss:  tf.Tensor(0.1184399351477623, shape=(), dtype=float64) ; accuracy:  94.88\n",
      "Epoch last saved checkpoint for step 4500: drive/MyDrive/Colab Notebooks/sota_mnist/tmp/mnist/original/1/train_ckpts/ckpt-15\n",
      "Training steps:  4500  loss:  tf.Tensor(0.1151442900300026, shape=(), dtype=float64) ; accuracy:  95.14\n",
      "Epoch last saved checkpoint for step 4800: drive/MyDrive/Colab Notebooks/sota_mnist/tmp/mnist/original/1/train_ckpts/ckpt-16\n",
      "Training steps:  4800  loss:  tf.Tensor(0.11269479990005493, shape=(), dtype=float64) ; accuracy:  95.39\n",
      "Epoch last saved checkpoint for step 5100: drive/MyDrive/Colab Notebooks/sota_mnist/tmp/mnist/original/1/train_ckpts/ckpt-17\n",
      "Training steps:  5100  loss:  tf.Tensor(0.11071314662694931, shape=(), dtype=float64) ; accuracy:  95.56\n",
      "Epoch last saved checkpoint for step 5400: drive/MyDrive/Colab Notebooks/sota_mnist/tmp/mnist/original/1/train_ckpts/ckpt-18\n",
      "Training steps:  5400  loss:  tf.Tensor(0.1089816465973854, shape=(), dtype=float64) ; accuracy:  95.75\n",
      "Epoch last saved checkpoint for step 5700: drive/MyDrive/Colab Notebooks/sota_mnist/tmp/mnist/original/1/train_ckpts/ckpt-19\n",
      "Training steps:  5700  loss:  tf.Tensor(0.10720587521791458, shape=(), dtype=float64) ; accuracy:  95.92\n",
      "Epoch last saved checkpoint for step 6000: drive/MyDrive/Colab Notebooks/sota_mnist/tmp/mnist/original/1/train_ckpts/ckpt-20\n",
      "Training steps:  6000  loss:  tf.Tensor(0.10531893372535706, shape=(), dtype=float64) ; accuracy:  96.08\n",
      "Epoch last saved checkpoint for step 6300: drive/MyDrive/Colab Notebooks/sota_mnist/tmp/mnist/original/1/train_ckpts/ckpt-21\n",
      "Training steps:  6300  loss:  tf.Tensor(0.10378575325012207, shape=(), dtype=float64) ; accuracy:  96.23\n",
      "Epoch last saved checkpoint for step 6600: drive/MyDrive/Colab Notebooks/sota_mnist/tmp/mnist/original/1/train_ckpts/ckpt-22\n",
      "Training steps:  6600  loss:  tf.Tensor(0.10231345891952515, shape=(), dtype=float64) ; accuracy:  96.35\n",
      "Epoch last saved checkpoint for step 6900: drive/MyDrive/Colab Notebooks/sota_mnist/tmp/mnist/original/1/train_ckpts/ckpt-23\n",
      "Training steps:  6900  loss:  tf.Tensor(0.10100177675485611, shape=(), dtype=float64) ; accuracy:  96.48\n",
      "Epoch last saved checkpoint for step 7200: drive/MyDrive/Colab Notebooks/sota_mnist/tmp/mnist/original/1/train_ckpts/ckpt-24\n",
      "Training steps:  7200  loss:  tf.Tensor(0.09960402548313141, shape=(), dtype=float64) ; accuracy:  96.64\n",
      "Epoch last saved checkpoint for step 7500: drive/MyDrive/Colab Notebooks/sota_mnist/tmp/mnist/original/1/train_ckpts/ckpt-25\n",
      "Training steps:  7500  loss:  tf.Tensor(0.09820044785737991, shape=(), dtype=float64) ; accuracy:  96.77\n",
      "Epoch last saved checkpoint for step 7800: drive/MyDrive/Colab Notebooks/sota_mnist/tmp/mnist/original/1/train_ckpts/ckpt-26\n",
      "Training steps:  7800  loss:  tf.Tensor(0.09707733243703842, shape=(), dtype=float64) ; accuracy:  96.88\n",
      "Epoch last saved checkpoint for step 8100: drive/MyDrive/Colab Notebooks/sota_mnist/tmp/mnist/original/1/train_ckpts/ckpt-27\n",
      "Training steps:  8100  loss:  tf.Tensor(0.09618082642555237, shape=(), dtype=float64) ; accuracy:  96.97\n",
      "Epoch last saved checkpoint for step 8400: drive/MyDrive/Colab Notebooks/sota_mnist/tmp/mnist/original/1/train_ckpts/ckpt-28\n",
      "Training steps:  8400  loss:  tf.Tensor(0.09527932107448578, shape=(), dtype=float64) ; accuracy:  97.09\n",
      "Epoch last saved checkpoint for step 8700: drive/MyDrive/Colab Notebooks/sota_mnist/tmp/mnist/original/1/train_ckpts/ckpt-29\n",
      "Training steps:  8700  loss:  tf.Tensor(0.09446552395820618, shape=(), dtype=float64) ; accuracy:  97.17\n",
      "Epoch last saved checkpoint for step 9000: drive/MyDrive/Colab Notebooks/sota_mnist/tmp/mnist/original/1/train_ckpts/ckpt-30\n",
      "Training steps:  9000  loss:  tf.Tensor(0.09356420487165451, shape=(), dtype=float64) ; accuracy:  97.28\n",
      "Epoch last saved checkpoint for step 9300: drive/MyDrive/Colab Notebooks/sota_mnist/tmp/mnist/original/1/train_ckpts/ckpt-31\n",
      "Training steps:  9300  loss:  tf.Tensor(0.09282830357551575, shape=(), dtype=float64) ; accuracy:  97.35\n",
      "Epoch last saved checkpoint for step 9600: drive/MyDrive/Colab Notebooks/sota_mnist/tmp/mnist/original/1/train_ckpts/ckpt-32\n",
      "Training steps:  9600  loss:  tf.Tensor(0.09193369001150131, shape=(), dtype=float64) ; accuracy:  97.44\n",
      "Epoch last saved checkpoint for step 9900: drive/MyDrive/Colab Notebooks/sota_mnist/tmp/mnist/original/1/train_ckpts/ckpt-33\n",
      "Training steps:  9900  loss:  tf.Tensor(0.09113243222236633, shape=(), dtype=float64) ; accuracy:  97.51\n",
      "Epoch last saved checkpoint for step 10200: drive/MyDrive/Colab Notebooks/sota_mnist/tmp/mnist/original/1/train_ckpts/ckpt-34\n",
      "Training steps:  10200  loss:  tf.Tensor(0.09045462310314178, shape=(), dtype=float64) ; accuracy:  97.6\n",
      "Epoch last saved checkpoint for step 10500: drive/MyDrive/Colab Notebooks/sota_mnist/tmp/mnist/original/1/train_ckpts/ckpt-35\n",
      "Training steps:  10500  loss:  tf.Tensor(0.08984354138374329, shape=(), dtype=float64) ; accuracy:  97.67\n",
      "Epoch last saved checkpoint for step 10800: drive/MyDrive/Colab Notebooks/sota_mnist/tmp/mnist/original/1/train_ckpts/ckpt-36\n",
      "Training steps:  10800  loss:  tf.Tensor(0.08928076922893524, shape=(), dtype=float64) ; accuracy:  97.73\n",
      "Epoch last saved checkpoint for step 11100: drive/MyDrive/Colab Notebooks/sota_mnist/tmp/mnist/original/1/train_ckpts/ckpt-37\n",
      "Training steps:  11100  loss:  tf.Tensor(0.0886138379573822, shape=(), dtype=float64) ; accuracy:  97.81\n",
      "Epoch last saved checkpoint for step 11400: drive/MyDrive/Colab Notebooks/sota_mnist/tmp/mnist/original/1/train_ckpts/ckpt-38\n",
      "Training steps:  11400  loss:  tf.Tensor(0.0882258489727974, shape=(), dtype=float64) ; accuracy:  97.88\n",
      "Epoch last saved checkpoint for step 11700: drive/MyDrive/Colab Notebooks/sota_mnist/tmp/mnist/original/1/train_ckpts/ckpt-39\n",
      "Training steps:  11700  loss:  tf.Tensor(0.08770830929279327, shape=(), dtype=float64) ; accuracy:  97.95\n",
      "Epoch last saved checkpoint for step 12000: drive/MyDrive/Colab Notebooks/sota_mnist/tmp/mnist/original/1/train_ckpts/ckpt-40\n",
      "Training steps:  12000  loss:  tf.Tensor(0.0871933177113533, shape=(), dtype=float64) ; accuracy:  98.01\n",
      "Epoch last saved checkpoint for step 12300: drive/MyDrive/Colab Notebooks/sota_mnist/tmp/mnist/original/1/train_ckpts/ckpt-41\n",
      "Training steps:  12300  loss:  tf.Tensor(0.08667085319757462, shape=(), dtype=float64) ; accuracy:  98.05\n",
      "Epoch last saved checkpoint for step 12600: drive/MyDrive/Colab Notebooks/sota_mnist/tmp/mnist/original/1/train_ckpts/ckpt-42\n",
      "Training steps:  12600  loss:  tf.Tensor(0.0862552747130394, shape=(), dtype=float64) ; accuracy:  98.11\n",
      "Epoch last saved checkpoint for step 12900: drive/MyDrive/Colab Notebooks/sota_mnist/tmp/mnist/original/1/train_ckpts/ckpt-43\n",
      "Training steps:  12900  loss:  tf.Tensor(0.08566920459270477, shape=(), dtype=float64) ; accuracy:  98.16\n",
      "Epoch last saved checkpoint for step 13200: drive/MyDrive/Colab Notebooks/sota_mnist/tmp/mnist/original/1/train_ckpts/ckpt-44\n",
      "Training steps:  13200  loss:  tf.Tensor(0.08516055345535278, shape=(), dtype=float64) ; accuracy:  98.2\n",
      "Epoch last saved checkpoint for step 13500: drive/MyDrive/Colab Notebooks/sota_mnist/tmp/mnist/original/1/train_ckpts/ckpt-45\n",
      "Training steps:  13500  loss:  tf.Tensor(0.08483032882213593, shape=(), dtype=float64) ; accuracy:  98.25\n",
      "Epoch last saved checkpoint for step 13800: drive/MyDrive/Colab Notebooks/sota_mnist/tmp/mnist/original/1/train_ckpts/ckpt-46\n",
      "Training steps:  13800  loss:  tf.Tensor(0.08483287692070007, shape=(), dtype=float64) ; accuracy:  98.3\n",
      "Epoch last saved checkpoint for step 14100: drive/MyDrive/Colab Notebooks/sota_mnist/tmp/mnist/original/1/train_ckpts/ckpt-47\n",
      "Training steps:  14100  loss:  tf.Tensor(0.08441720902919769, shape=(), dtype=float64) ; accuracy:  98.35\n",
      "Epoch last saved checkpoint for step 14400: drive/MyDrive/Colab Notebooks/sota_mnist/tmp/mnist/original/1/train_ckpts/ckpt-48\n",
      "Training steps:  14400  loss:  tf.Tensor(0.08385338634252548, shape=(), dtype=float64) ; accuracy:  98.4\n",
      "Epoch last saved checkpoint for step 14700: drive/MyDrive/Colab Notebooks/sota_mnist/tmp/mnist/original/1/train_ckpts/ckpt-49\n",
      "Training steps:  14700  loss:  tf.Tensor(0.08335583657026291, shape=(), dtype=float64) ; accuracy:  98.45\n",
      "Epoch last saved checkpoint for step 15000: drive/MyDrive/Colab Notebooks/sota_mnist/tmp/mnist/original/1/train_ckpts/ckpt-50\n",
      "Training steps:  15000  loss:  tf.Tensor(0.08296061307191849, shape=(), dtype=float64) ; accuracy:  98.51\n",
      "Epoch last saved checkpoint for step 15300: drive/MyDrive/Colab Notebooks/sota_mnist/tmp/mnist/original/1/train_ckpts/ckpt-51\n",
      "Training steps:  15300  loss:  tf.Tensor(0.08251240104436874, shape=(), dtype=float64) ; accuracy:  98.57\n",
      "Epoch last saved checkpoint for step 15600: drive/MyDrive/Colab Notebooks/sota_mnist/tmp/mnist/original/1/train_ckpts/ckpt-52\n",
      "Training steps:  15600  loss:  tf.Tensor(0.08216537535190582, shape=(), dtype=float64) ; accuracy:  98.62\n",
      "Epoch last saved checkpoint for step 15900: drive/MyDrive/Colab Notebooks/sota_mnist/tmp/mnist/original/1/train_ckpts/ckpt-53\n",
      "Training steps:  15900  loss:  tf.Tensor(0.08180534094572067, shape=(), dtype=float64) ; accuracy:  98.66\n",
      "Epoch last saved checkpoint for step 16200: drive/MyDrive/Colab Notebooks/sota_mnist/tmp/mnist/original/1/train_ckpts/ckpt-54\n",
      "Training steps:  16200  loss:  tf.Tensor(0.08135318756103516, shape=(), dtype=float64) ; accuracy:  98.71\n",
      "Epoch last saved checkpoint for step 16500: drive/MyDrive/Colab Notebooks/sota_mnist/tmp/mnist/original/1/train_ckpts/ckpt-55\n",
      "Training steps:  16500  loss:  tf.Tensor(0.08079990744590759, shape=(), dtype=float64) ; accuracy:  98.75\n",
      "Epoch last saved checkpoint for step 16800: drive/MyDrive/Colab Notebooks/sota_mnist/tmp/mnist/original/1/train_ckpts/ckpt-56\n",
      "Training steps:  16800  loss:  tf.Tensor(0.08054759353399277, shape=(), dtype=float64) ; accuracy:  98.78\n",
      "Epoch last saved checkpoint for step 17100: drive/MyDrive/Colab Notebooks/sota_mnist/tmp/mnist/original/1/train_ckpts/ckpt-57\n",
      "Training steps:  17100  loss:  tf.Tensor(0.08020185679197311, shape=(), dtype=float64) ; accuracy:  98.83\n",
      "Epoch last saved checkpoint for step 17400: drive/MyDrive/Colab Notebooks/sota_mnist/tmp/mnist/original/1/train_ckpts/ckpt-58\n",
      "Training steps:  17400  loss:  tf.Tensor(0.07996439188718796, shape=(), dtype=float64) ; accuracy:  98.87\n",
      "Epoch last saved checkpoint for step 17700: drive/MyDrive/Colab Notebooks/sota_mnist/tmp/mnist/original/1/train_ckpts/ckpt-59\n",
      "Training steps:  17700  loss:  tf.Tensor(0.07973042130470276, shape=(), dtype=float64) ; accuracy:  98.91\n",
      "Epoch last saved checkpoint for step 18000: drive/MyDrive/Colab Notebooks/sota_mnist/tmp/mnist/original/1/train_ckpts/ckpt-60\n",
      "Training steps:  18000  loss:  tf.Tensor(0.07934442162513733, shape=(), dtype=float64) ; accuracy:  98.93\n",
      "Epoch last saved checkpoint for step 18300: drive/MyDrive/Colab Notebooks/sota_mnist/tmp/mnist/original/1/train_ckpts/ckpt-61\n",
      "Training steps:  18300  loss:  tf.Tensor(0.07902621477842331, shape=(), dtype=float64) ; accuracy:  98.98\n",
      "Epoch last saved checkpoint for step 18600: drive/MyDrive/Colab Notebooks/sota_mnist/tmp/mnist/original/1/train_ckpts/ckpt-62\n",
      "Training steps:  18600  loss:  tf.Tensor(0.07884375751018524, shape=(), dtype=float64) ; accuracy:  99.01\n",
      "Epoch last saved checkpoint for step 18900: drive/MyDrive/Colab Notebooks/sota_mnist/tmp/mnist/original/1/train_ckpts/ckpt-63\n",
      "Training steps:  18900  loss:  tf.Tensor(0.07856971770524979, shape=(), dtype=float64) ; accuracy:  99.04\n",
      "Epoch last saved checkpoint for step 19200: drive/MyDrive/Colab Notebooks/sota_mnist/tmp/mnist/original/1/train_ckpts/ckpt-64\n",
      "Training steps:  19200  loss:  tf.Tensor(0.07826065272092819, shape=(), dtype=float64) ; accuracy:  99.09\n",
      "Epoch last saved checkpoint for step 19500: drive/MyDrive/Colab Notebooks/sota_mnist/tmp/mnist/original/1/train_ckpts/ckpt-65\n",
      "Training steps:  19500  loss:  tf.Tensor(0.07811099290847778, shape=(), dtype=float64) ; accuracy:  99.12\n",
      "Epoch last saved checkpoint for step 19800: drive/MyDrive/Colab Notebooks/sota_mnist/tmp/mnist/original/1/train_ckpts/ckpt-66\n",
      "Training steps:  19800  loss:  tf.Tensor(0.07773027569055557, shape=(), dtype=float64) ; accuracy:  99.15\n",
      "Epoch last saved checkpoint for step 20100: drive/MyDrive/Colab Notebooks/sota_mnist/tmp/mnist/original/1/train_ckpts/ckpt-67\n",
      "Training steps:  20100  loss:  tf.Tensor(0.07743939757347107, shape=(), dtype=float64) ; accuracy:  99.17\n",
      "Epoch last saved checkpoint for step 20400: drive/MyDrive/Colab Notebooks/sota_mnist/tmp/mnist/original/1/train_ckpts/ckpt-68\n",
      "Training steps:  20400  loss:  tf.Tensor(0.07691264897584915, shape=(), dtype=float64) ; accuracy:  99.19\n",
      "Epoch last saved checkpoint for step 20700: drive/MyDrive/Colab Notebooks/sota_mnist/tmp/mnist/original/1/train_ckpts/ckpt-69\n",
      "Training steps:  20700  loss:  tf.Tensor(0.07660320401191711, shape=(), dtype=float64) ; accuracy:  99.22\n",
      "Epoch last saved checkpoint for step 21000: drive/MyDrive/Colab Notebooks/sota_mnist/tmp/mnist/original/1/train_ckpts/ckpt-70\n",
      "Training steps:  21000  loss:  tf.Tensor(0.0764508843421936, shape=(), dtype=float64) ; accuracy:  99.24\n",
      "Epoch last saved checkpoint for step 21300: drive/MyDrive/Colab Notebooks/sota_mnist/tmp/mnist/original/1/train_ckpts/ckpt-71\n",
      "Training steps:  21300  loss:  tf.Tensor(0.07606948912143707, shape=(), dtype=float64) ; accuracy:  99.27\n",
      "Epoch last saved checkpoint for step 21600: drive/MyDrive/Colab Notebooks/sota_mnist/tmp/mnist/original/1/train_ckpts/ckpt-72\n",
      "Training steps:  21600  loss:  tf.Tensor(0.075848788022995, shape=(), dtype=float64) ; accuracy:  99.3\n",
      "Epoch last saved checkpoint for step 21900: drive/MyDrive/Colab Notebooks/sota_mnist/tmp/mnist/original/1/train_ckpts/ckpt-73\n",
      "Training steps:  21900  loss:  tf.Tensor(0.07553796470165253, shape=(), dtype=float64) ; accuracy:  99.33\n",
      "Epoch last saved checkpoint for step 22200: drive/MyDrive/Colab Notebooks/sota_mnist/tmp/mnist/original/1/train_ckpts/ckpt-74\n",
      "Training steps:  22200  loss:  tf.Tensor(0.07552151381969452, shape=(), dtype=float64) ; accuracy:  99.35\n",
      "Epoch last saved checkpoint for step 22500: drive/MyDrive/Colab Notebooks/sota_mnist/tmp/mnist/original/1/train_ckpts/ckpt-75\n",
      "Training steps:  22500  loss:  tf.Tensor(0.07527508586645126, shape=(), dtype=float64) ; accuracy:  99.38\n",
      "Epoch last saved checkpoint for step 22800: drive/MyDrive/Colab Notebooks/sota_mnist/tmp/mnist/original/1/train_ckpts/ckpt-76\n",
      "Training steps:  22800  loss:  tf.Tensor(0.07512419670820236, shape=(), dtype=float64) ; accuracy:  99.4\n",
      "Epoch last saved checkpoint for step 23100: drive/MyDrive/Colab Notebooks/sota_mnist/tmp/mnist/original/1/train_ckpts/ckpt-77\n",
      "Training steps:  23100  loss:  tf.Tensor(0.07493648678064346, shape=(), dtype=float64) ; accuracy:  99.42\n",
      "Epoch last saved checkpoint for step 23400: drive/MyDrive/Colab Notebooks/sota_mnist/tmp/mnist/original/1/train_ckpts/ckpt-78\n",
      "Training steps:  23400  loss:  tf.Tensor(0.07468830794095993, shape=(), dtype=float64) ; accuracy:  99.45\n",
      "Epoch last saved checkpoint for step 23700: drive/MyDrive/Colab Notebooks/sota_mnist/tmp/mnist/original/1/train_ckpts/ckpt-79\n",
      "Training steps:  23700  loss:  tf.Tensor(0.07448455691337585, shape=(), dtype=float64) ; accuracy:  99.47\n",
      "Epoch last saved checkpoint for step 24000: drive/MyDrive/Colab Notebooks/sota_mnist/tmp/mnist/original/1/train_ckpts/ckpt-80\n",
      "Training steps:  24000  loss:  tf.Tensor(0.07428833842277527, shape=(), dtype=float64) ; accuracy:  99.49\n",
      "Epoch last saved checkpoint for step 24300: drive/MyDrive/Colab Notebooks/sota_mnist/tmp/mnist/original/1/train_ckpts/ckpt-81\n",
      "Training steps:  24300  loss:  tf.Tensor(0.07391681522130966, shape=(), dtype=float64) ; accuracy:  99.5\n",
      "Epoch last saved checkpoint for step 24600: drive/MyDrive/Colab Notebooks/sota_mnist/tmp/mnist/original/1/train_ckpts/ckpt-82\n",
      "Training steps:  24600  loss:  tf.Tensor(0.07364659756422043, shape=(), dtype=float64) ; accuracy:  99.52\n",
      "Epoch last saved checkpoint for step 24900: drive/MyDrive/Colab Notebooks/sota_mnist/tmp/mnist/original/1/train_ckpts/ckpt-83\n",
      "Training steps:  24900  loss:  tf.Tensor(0.07335317879915237, shape=(), dtype=float64) ; accuracy:  99.55\n",
      "Epoch last saved checkpoint for step 25200: drive/MyDrive/Colab Notebooks/sota_mnist/tmp/mnist/original/1/train_ckpts/ckpt-84\n",
      "Training steps:  25200  loss:  tf.Tensor(0.0732279121875763, shape=(), dtype=float64) ; accuracy:  99.57\n",
      "Epoch last saved checkpoint for step 25500: drive/MyDrive/Colab Notebooks/sota_mnist/tmp/mnist/original/1/train_ckpts/ckpt-85\n",
      "Training steps:  25500  loss:  tf.Tensor(0.07309996336698532, shape=(), dtype=float64) ; accuracy:  99.6\n",
      "Epoch last saved checkpoint for step 25800: drive/MyDrive/Colab Notebooks/sota_mnist/tmp/mnist/original/1/train_ckpts/ckpt-86\n",
      "Training steps:  25800  loss:  tf.Tensor(0.07281750440597534, shape=(), dtype=float64) ; accuracy:  99.62\n",
      "Epoch last saved checkpoint for step 26100: drive/MyDrive/Colab Notebooks/sota_mnist/tmp/mnist/original/1/train_ckpts/ckpt-87\n",
      "Training steps:  26100  loss:  tf.Tensor(0.07272375375032425, shape=(), dtype=float64) ; accuracy:  99.64\n",
      "Epoch last saved checkpoint for step 26400: drive/MyDrive/Colab Notebooks/sota_mnist/tmp/mnist/original/1/train_ckpts/ckpt-88\n",
      "Training steps:  26400  loss:  tf.Tensor(0.07238206267356873, shape=(), dtype=float64) ; accuracy:  99.65\n",
      "Epoch last saved checkpoint for step 26700: drive/MyDrive/Colab Notebooks/sota_mnist/tmp/mnist/original/1/train_ckpts/ckpt-89\n",
      "Training steps:  26700  loss:  tf.Tensor(0.07209757715463638, shape=(), dtype=float64) ; accuracy:  99.68\n",
      "Epoch last saved checkpoint for step 27000: drive/MyDrive/Colab Notebooks/sota_mnist/tmp/mnist/original/1/train_ckpts/ckpt-90\n",
      "Training steps:  27000  loss:  tf.Tensor(0.07187875360250473, shape=(), dtype=float64) ; accuracy:  99.69\n"
     ]
    }
   ],
   "source": [
    "_, dev_influences = training_loop(X_train, Y_train, X_dev, Y_dev, track_grads=True)"
   ]
  },
  {
   "cell_type": "markdown",
   "metadata": {
    "id": "6oGSPCGNngzr"
   },
   "source": [
    "### Finding best checkpoint based on performance on entire validation set"
   ]
  },
  {
   "cell_type": "code",
   "execution_count": null,
   "metadata": {
    "colab": {
     "base_uri": "https://localhost:8080/",
     "height": 282
    },
    "executionInfo": {
     "elapsed": 9206,
     "status": "ok",
     "timestamp": 1645171115409,
     "user": {
      "displayName": "Hasan Amin",
      "photoUrl": "https://lh3.googleusercontent.com/a-/AOh14Gj3kp8k_QR5n481JXJjNGoiBLUorNBkkT2NPcEbOA=s64",
      "userId": "17461130678708299500"
     },
     "user_tz": 300
    },
    "id": "WMcWuKw0z_5H",
    "outputId": "85acb644-1486-4754-8a34-20a9d899ef0f"
   },
   "outputs": [
    {
     "data": {
      "text/plain": [
       "<matplotlib.axes._subplots.AxesSubplot at 0x7f85601dc690>"
      ]
     },
     "execution_count": 15,
     "metadata": {},
     "output_type": "execute_result"
    },
    {
     "data": {
      "image/png": "[encoded data removed]",
      "text/plain": [
       "<Figure size 432x288 with 1 Axes>"
      ]
     },
     "metadata": {
      "needs_background": "light"
     },
     "output_type": "display_data"
    }
   ],
   "source": [
    "_, _, X_test, Y_test = load_standard_mnist()\n",
    "\n",
    "test_accuracies = []\n",
    "test_loss = []\n",
    "loss_fn = tf.keras.losses.SparseCategoricalCrossentropy()\n",
    "for ckpt_num in range(1, len(train_ckpt_manager.checkpoints)):\n",
    "  train_ckpt.restore(train_ckpt_manager.checkpoints[ckpt_num])\n",
    "  P_test = train_ckpt.model(X_test, training=False)\n",
    "  test_accuracies.append(len(np.argwhere(Y_test == np.argmax(P_test, axis=1)))/100.)\n",
    "  test_loss.append(loss_fn(Y_test, P_test))\n",
    "\n",
    "sns.lineplot(x=range(1,len(train_ckpt_manager.checkpoints)), y=[x.numpy() for x in test_loss])"
   ]
  },
  {
   "cell_type": "code",
   "execution_count": null,
   "metadata": {
    "colab": {
     "base_uri": "https://localhost:8080/",
     "height": 35
    },
    "executionInfo": {
     "elapsed": 14,
     "status": "ok",
     "timestamp": 1645171115410,
     "user": {
      "displayName": "Hasan Amin",
      "photoUrl": "https://lh3.googleusercontent.com/a-/AOh14Gj3kp8k_QR5n481JXJjNGoiBLUorNBkkT2NPcEbOA=s64",
      "userId": "17461130678708299500"
     },
     "user_tz": 300
    },
    "id": "bUAqU7-Au7iZ",
    "outputId": "5a163c00-b6bd-412e-ae09-b0add588e0a9"
   },
   "outputs": [
    {
     "data": {
      "application/vnd.google.colaboratory.intrinsic+json": {
       "type": "string"
      },
      "text/plain": [
       "'drive/MyDrive/Colab Notebooks/sota_mnist/tmp/mnist/original/1/train_ckpts/ckpt-75'"
      ]
     },
     "execution_count": 16,
     "metadata": {},
     "output_type": "execute_result"
    }
   ],
   "source": [
    "EARLY_STOP_CKPT = 75\n",
    "train_ckpt_manager.checkpoints[EARLY_STOP_CKPT-1]"
   ]
  },
  {
   "cell_type": "code",
   "execution_count": null,
   "metadata": {
    "id": "gNGWOnUJURTT"
   },
   "outputs": [],
   "source": [
    "train_ckpt.restore(train_ckpt_manager.checkpoints[EARLY_STOP_CKPT-1])\n",
    "keras.models.save_model(train_ckpt.model, BASE_DIR + '/tmp/mnist/original/{0}/model_ckpt_75.h5'.format(TRIAL))"
   ]
  },
  {
   "cell_type": "markdown",
   "metadata": {
    "id": "1a5QMWOkZNOD"
   },
   "source": [
    "## TrackIn is first order approximation of change in loss"
   ]
  },
  {
   "cell_type": "code",
   "execution_count": null,
   "metadata": {
    "colab": {
     "base_uri": "https://localhost:8080/"
    },
    "executionInfo": {
     "elapsed": 547559,
     "status": "ok",
     "timestamp": 1645171699053,
     "user": {
      "displayName": "Hasan Amin",
      "photoUrl": "https://lh3.googleusercontent.com/a-/AOh14Gj3kp8k_QR5n481JXJjNGoiBLUorNBkkT2NPcEbOA=s64",
      "userId": "17461130678708299500"
     },
     "user_tz": 300
    },
    "id": "1_b2bHo_74EU",
    "outputId": "a065b1d5-16e0-4b62-d049-b5e92970ee07"
   },
   "outputs": [
    {
     "name": "stdout",
     "output_type": "stream",
     "text": [
      "(0, 200) (0, 1) (100, 1)\n"
     ]
    }
   ],
   "source": [
    "step_influences = []\n",
    "step_losses = []\n",
    "for ckpt_num in range(1, EARLY_STOP_CKPT):\n",
    "  train_ckpt.restore(train_ckpt_manager.checkpoints[ckpt_num])\n",
    "\n",
    "  for si in range(0, 60000, BATCH_SIZE):\n",
    "    if ckpt_num == 1 and si == 0:\n",
    "      print((si,si+BATCH_SIZE), (si//BATCH_SIZE,(si+BATCH_SIZE)//BATCH_SIZE), train_ckpt.dev_loss_changes.numpy()[:,si//BATCH_SIZE:(si+BATCH_SIZE)//BATCH_SIZE].shape)\n",
    "    step_influences.append(np.sum(train_ckpt.dev_loss_influences.numpy()[:,si:si+BATCH_SIZE], axis=1))\n",
    "    step_losses.append(np.sum(train_ckpt.dev_loss_changes.numpy()[:,si//BATCH_SIZE:(si+BATCH_SIZE)//BATCH_SIZE], axis=1))\n"
   ]
  },
  {
   "cell_type": "code",
   "execution_count": null,
   "metadata": {
    "colab": {
     "base_uri": "https://localhost:8080/"
    },
    "executionInfo": {
     "elapsed": 8,
     "status": "ok",
     "timestamp": 1645171699054,
     "user": {
      "displayName": "Hasan Amin",
      "photoUrl": "https://lh3.googleusercontent.com/a-/AOh14Gj3kp8k_QR5n481JXJjNGoiBLUorNBkkT2NPcEbOA=s64",
      "userId": "17461130678708299500"
     },
     "user_tz": 300
    },
    "id": "oqO_D6H3fbRS",
    "outputId": "6ae62885-acb7-46ea-a9ac-078093748170"
   },
   "outputs": [
    {
     "data": {
      "text/plain": [
       "(22200, 22200, (100,), (100,), 22200)"
      ]
     },
     "execution_count": 19,
     "metadata": {},
     "output_type": "execute_result"
    }
   ],
   "source": [
    "len(step_losses), len(step_influences), step_losses[0].shape, step_influences[0].shape, (EARLY_STOP_CKPT-1)*300  # should be 300*(num_ckpts-1)"
   ]
  },
  {
   "cell_type": "code",
   "execution_count": null,
   "metadata": {
    "id": "Ce6SWAgBXlFF"
   },
   "outputs": [],
   "source": [
    "np.savez_compressed(BASE_DIR + '/tmp/mnist/original/{0}/dev_step_loss_deltas.npz'.format(TRIAL), step_losses)\n",
    "np.savez_compressed(BASE_DIR + '/tmp/mnist/original/{0}/dev_step_influences.npz'.format(TRIAL), step_influences)"
   ]
  },
  {
   "cell_type": "code",
   "execution_count": null,
   "metadata": {
    "colab": {
     "base_uri": "https://localhost:8080/"
    },
    "executionInfo": {
     "elapsed": 294,
     "status": "ok",
     "timestamp": 1645171701098,
     "user": {
      "displayName": "Hasan Amin",
      "photoUrl": "https://lh3.googleusercontent.com/a-/AOh14Gj3kp8k_QR5n481JXJjNGoiBLUorNBkkT2NPcEbOA=s64",
      "userId": "17461130678708299500"
     },
     "user_tz": 300
    },
    "id": "2DOfx9M5zwai",
    "outputId": "7305c15c-2ccb-447f-8f27-61825f6ddd3a"
   },
   "outputs": [
    {
     "data": {
      "text/plain": [
       "((2220000,), (2220000,))"
      ]
     },
     "execution_count": 21,
     "metadata": {},
     "output_type": "execute_result"
    }
   ],
   "source": [
    "step_losses = np.reshape(np.load(BASE_DIR + '/tmp/mnist/original/{0}/dev_step_loss_deltas.npz'.format(TRIAL))['arr_0'], (-1,))\n",
    "step_influences = np.reshape(np.load(BASE_DIR + '/tmp/mnist/original/{0}/dev_step_influences.npz'.format(TRIAL))['arr_0'], (-1,))\n",
    "step_losses.shape, step_influences.shape"
   ]
  },
  {
   "cell_type": "code",
   "execution_count": null,
   "metadata": {
    "colab": {
     "base_uri": "https://localhost:8080/"
    },
    "executionInfo": {
     "elapsed": 4,
     "status": "ok",
     "timestamp": 1645171701099,
     "user": {
      "displayName": "Hasan Amin",
      "photoUrl": "https://lh3.googleusercontent.com/a-/AOh14Gj3kp8k_QR5n481JXJjNGoiBLUorNBkkT2NPcEbOA=s64",
      "userId": "17461130678708299500"
     },
     "user_tz": 300
    },
    "id": "DepbIPOgbbGU",
    "outputId": "037d6af8-450d-4447-e0ee-0ee4dd37ae48"
   },
   "outputs": [
    {
     "name": "stdout",
     "output_type": "stream",
     "text": [
      "0.9500969525914581\n"
     ]
    }
   ],
   "source": [
    "# trying to take a correlatin of 2M points crashes, so we take a sample to get correlation.\n",
    "sample = np.random.choice(len(step_losses), len(step_losses)//100, replace=False)\n",
    "corr_delta_loss_infl = np.corrcoef(step_influences[sample], step_losses[sample])[0,1]\n",
    "print(corr_delta_loss_infl)"
   ]
  },
  {
   "cell_type": "code",
   "execution_count": null,
   "metadata": {
    "colab": {
     "base_uri": "https://localhost:8080/",
     "height": 933
    },
    "executionInfo": {
     "elapsed": 3804,
     "status": "ok",
     "timestamp": 1645171704901,
     "user": {
      "displayName": "Hasan Amin",
      "photoUrl": "https://lh3.googleusercontent.com/a-/AOh14Gj3kp8k_QR5n481JXJjNGoiBLUorNBkkT2NPcEbOA=s64",
      "userId": "17461130678708299500"
     },
     "user_tz": 300
    },
    "id": "C0S1LuVQ1yfG",
    "outputId": "61ba1aab-c87e-41ed-b29b-7176c66bc85e"
   },
   "outputs": [
    {
     "data": {
      "image/png": "[encoded data removed]",
      "text/plain": [
       "<Figure size 1080x1080 with 1 Axes>"
      ]
     },
     "metadata": {
      "needs_background": "light"
     },
     "output_type": "display_data"
    }
   ],
   "source": [
    "plt.figure(figsize=(15,15))\n",
    "\n",
    "plt.scatter(y=step_influences, x=step_losses)\n",
    "plt.ylabel('First order apx influence', fontsize=30, labelpad=20) \n",
    "plt.xlabel('Change in loss', fontsize=30, labelpad=20) \n",
    "plt.title('Correlation: {0:.03f}'.format(corr_delta_loss_infl), fontsize=20)\n",
    "\n",
    "plt.show()"
   ]
  },
  {
   "cell_type": "markdown",
   "metadata": {
    "id": "xWYNBgyVZVpx"
   },
   "source": [
    "## Effect of checkpoints and random projections on TrackIn"
   ]
  },
  {
   "cell_type": "code",
   "execution_count": null,
   "metadata": {
    "id": "J68dFTR_aUDe"
   },
   "outputs": [],
   "source": [
    "# each checkpoint has influences for that epoch, gather those across epochs (until the best checkpoint)\n",
    "trackin_influences = np.zeros((100, 60000))\n",
    "for ckpt_num in range(1, EARLY_STOP_CKPT):\n",
    "  train_ckpt.restore(train_ckpt_manager.checkpoints[ckpt_num])\n",
    "  trackin_influences += train_ckpt.dev_loss_influences.numpy() # 100, 60000\n",
    "\n",
    "np.savez_compressed(BASE_DIR + '/tmp/mnist/original/{0}/trackin_precise_influences.npz'.format(TRIAL), trackin_influences)"
   ]
  },
  {
   "cell_type": "code",
   "execution_count": null,
   "metadata": {
    "id": "EqB55e022yAU"
   },
   "outputs": [],
   "source": [
    "num_parameters = train_ckpt.model.count_params()\n",
    "projection_sample = np.zeros((10, num_parameters), dtype=np.float64)\n",
    "proj_list = []\n",
    "for n_components in [50, 100, 1000]:\n",
    "  proj = random_projection.GaussianRandomProjection(n_components=n_components)\n",
    "  proj.fit(projection_sample)\n",
    "  proj_list.append(proj)\n",
    "del(projection_sample)"
   ]
  },
  {
   "cell_type": "code",
   "execution_count": null,
   "metadata": {
    "id": "8aWUGl-tcWM6"
   },
   "outputs": [],
   "source": [
    "def get_loss_influences(test_loss_grads, proj_list):\n",
    "  \"\"\"Gets influences given test loss gradients\"\"\"\n",
    "  inf_loss = []\n",
    "  inf_loss_proj={}\n",
    "  test_loss_grads_proj = {}\n",
    "  for x in range(len(proj_list)):\n",
    "    inf_loss_proj[x] = []\n",
    "    test_loss_grads_proj[x]=np.transpose(proj_list[x].transform(test_loss_grads))\n",
    "\n",
    "  for si in range(0, X_train.shape[0], 500):\n",
    "    with tf.GradientTape() as tape:\n",
    "      pred = train_ckpt.model(X_train[si:si+500], training=False)\n",
    "      loss = tf.keras.losses.sparse_categorical_crossentropy(Y_train[si:si+500], pred)\n",
    "    loss_grads = concat_to_2d(tape.jacobian(loss, train_ckpt.model.trainable_variables))\n",
    "    inf_loss.append(np.matmul(loss_grads, np.transpose(test_loss_grads)))\n",
    "    \n",
    "    for x in range(len(proj_list)):\n",
    "      proj = proj_list[x]\n",
    "      inf_loss_proj[x].append(np.matmul(proj.transform(loss_grads), test_loss_grads_proj[x]))\n",
    "    del(tape)\n",
    "    if (si%10000) == 0:\n",
    "      print(si)\n",
    "  \n",
    "  for x in range(len(proj_list)):\n",
    "    inf_loss_proj[x] = np.transpose(np.concatenate(inf_loss_proj[x]))\n",
    "  return np.transpose(np.concatenate(inf_loss)), inf_loss_proj\n",
    "         "
   ]
  },
  {
   "cell_type": "code",
   "execution_count": null,
   "metadata": {
    "id": "mRDeeOuXhdzl"
   },
   "outputs": [],
   "source": [
    "def get_loss_gradients(X_test, Y_test):\n",
    "  loss_grads = []\n",
    "  with tf.GradientTape() as tape:\n",
    "    pred = train_ckpt.model(X_test, training=False)\n",
    "    loss = tf.keras.losses.sparse_categorical_crossentropy(Y_test, pred)\n",
    "  return concat_to_2d(tape.jacobian(loss, train_ckpt.model.trainable_variables))"
   ]
  },
  {
   "cell_type": "code",
   "execution_count": null,
   "metadata": {
    "id": "RNVrlBHcdtgR"
   },
   "outputs": [],
   "source": [
    "loss_influences={}\n",
    "loss_influences_proj={}"
   ]
  },
  {
   "cell_type": "code",
   "execution_count": null,
   "metadata": {
    "colab": {
     "base_uri": "https://localhost:8080/"
    },
    "executionInfo": {
     "elapsed": 4175773,
     "status": "ok",
     "timestamp": 1645175901928,
     "user": {
      "displayName": "Hasan Amin",
      "photoUrl": "https://lh3.googleusercontent.com/a-/AOh14Gj3kp8k_QR5n481JXJjNGoiBLUorNBkkT2NPcEbOA=s64",
      "userId": "17461130678708299500"
     },
     "user_tz": 300
    },
    "id": "Xjj2B0WndZt3",
    "outputId": "f06fce04-98b0-4414-d1d2-0218fc275ff0"
   },
   "outputs": [
    {
     "name": "stdout",
     "output_type": "stream",
     "text": [
      "0\n",
      "10000\n",
      "20000\n",
      "30000\n",
      "40000\n",
      "50000\n",
      "0\n",
      "10000\n",
      "20000\n",
      "30000\n",
      "40000\n",
      "50000\n",
      "0\n",
      "10000\n",
      "20000\n",
      "30000\n",
      "40000\n",
      "50000\n",
      "0\n",
      "10000\n",
      "20000\n",
      "30000\n",
      "40000\n",
      "50000\n",
      "0\n",
      "10000\n",
      "20000\n",
      "30000\n",
      "40000\n",
      "50000\n",
      "0\n",
      "10000\n",
      "20000\n",
      "30000\n",
      "40000\n",
      "50000\n"
     ]
    }
   ],
   "source": [
    "for ckpt_num in [4,14,29,44,59,74]:\n",
    "  ckpt_path = train_ckpt_manager.checkpoints[ckpt_num]\n",
    "  train_ckpt.restore(ckpt_path)\n",
    "  l, p = get_loss_influences(get_loss_gradients(X_dev, Y_dev), proj_list)\n",
    "  np.savez_compressed(BASE_DIR + '/tmp/mnist/original/{0}/trackin_loss_infl_{1}.npz'.format(TRIAL, ckpt_num+1), l)\n",
    "  np.savez_compressed(BASE_DIR + '/tmp/mnist/original/{0}/trackin_loss_infl_proj_{1}.npz'.format(TRIAL, ckpt_num+1), p)"
   ]
  },
  {
   "cell_type": "code",
   "execution_count": null,
   "metadata": {
    "colab": {
     "base_uri": "https://localhost:8080/"
    },
    "executionInfo": {
     "elapsed": 634447,
     "status": "ok",
     "timestamp": 1645176536360,
     "user": {
      "displayName": "Hasan Amin",
      "photoUrl": "https://lh3.googleusercontent.com/a-/AOh14Gj3kp8k_QR5n481JXJjNGoiBLUorNBkkT2NPcEbOA=s64",
      "userId": "17461130678708299500"
     },
     "user_tz": 300
    },
    "id": "oyTOtKdu1KMP",
    "outputId": "0c6934de-bd6f-452a-b245-ef18ab92c89b"
   },
   "outputs": [
    {
     "name": "stdout",
     "output_type": "stream",
     "text": [
      "0\n",
      "10000\n",
      "20000\n",
      "30000\n",
      "40000\n",
      "50000\n",
      "0\n",
      "10000\n",
      "20000\n",
      "30000\n",
      "40000\n",
      "50000\n",
      "0\n",
      "10000\n",
      "20000\n",
      "30000\n",
      "40000\n",
      "50000\n",
      "0\n",
      "10000\n",
      "20000\n",
      "30000\n",
      "40000\n",
      "50000\n"
     ]
    }
   ],
   "source": [
    "# don't need projected ones for this:\n",
    "for ckpt_num in [24,\n",
    "                 34, # mid ckpt\n",
    "                 49, \n",
    "                 64]:\n",
    "  ckpt_path = train_ckpt_manager.checkpoints[ckpt_num]\n",
    "  train_ckpt.restore(ckpt_path)\n",
    "  l, _ = get_loss_influences(get_loss_gradients(X_dev, Y_dev), [])\n",
    "  np.savez_compressed(BASE_DIR + '/tmp/mnist/original/{0}/trackin_loss_infl_{1}.npz'.format(TRIAL, ckpt_num+1), l)"
   ]
  },
  {
   "cell_type": "code",
   "execution_count": null,
   "metadata": {
    "id": "L2IUy0ZsuZmw"
   },
   "outputs": [],
   "source": [
    "accum_influences = np.zeros((100, 60000))\n",
    "accum_influences_proj = {}\n",
    "for x in range(len(proj_list)):\n",
    "  accum_influences_proj[x] = np.zeros((100, 60000))\n",
    "for ckpt_num in [4, 14, 29, 44, 59, 74]:\n",
    "  accum_influences += np.load(BASE_DIR + '/tmp/mnist/original/{0}/trackin_loss_infl_{1}.npz'.format(TRIAL, ckpt_num+1))['arr_0']\n",
    "  for x in range(len(proj_list)): \n",
    "    accum_influences_proj[x] += np.load(BASE_DIR + '/tmp/mnist/original/{0}/trackin_loss_infl_proj_{1}.npz'.format(TRIAL, ckpt_num+1), allow_pickle=True, encoding='bytes')['arr_0'].tolist()[x]\n",
    "accum_6 = np.array([np.corrcoef(accum_influences[i], trackin_influences[i])[0,1] for i in range(100)])\n",
    "\n",
    "accum_proj_6={}\n",
    "for x in range(len(proj_list)):\n",
    "  accum_proj_6[x] = np.array([np.corrcoef(accum_influences_proj[x][i], trackin_influences[i])[0,1] for i in range(100)])"
   ]
  },
  {
   "cell_type": "code",
   "execution_count": null,
   "metadata": {
    "id": "zqY5k78Yreaq"
   },
   "outputs": [],
   "source": [
    "accum_influences = np.zeros((100, 60000))\n",
    "for ckpt_num in [4, 24, 44, 64]:\n",
    "  accum_influences += np.load(BASE_DIR + '/tmp/mnist/original/{0}/trackin_loss_infl_{1}.npz'.format(TRIAL, ckpt_num+1))['arr_0']\n",
    "accum_4 = np.array([np.corrcoef(accum_influences[i], trackin_influences[i])[0,1] for i in range(100)])\n",
    "\n",
    "accum_influences = np.zeros((100, 60000))\n",
    "for ckpt_num in [24, 49, 74]:\n",
    "  accum_influences += np.load(BASE_DIR + '/tmp/mnist/original/{0}/trackin_loss_infl_{1}.npz'.format(TRIAL, ckpt_num+1))['arr_0']\n",
    "accum_3 = np.array([np.corrcoef(accum_influences[i], trackin_influences[i])[0,1] for i in range(100)])\n",
    "\n",
    "accum_influences = np.zeros((100, 60000))\n",
    "for ckpt_num in [4, 14, 24]:\n",
    "  accum_influences += np.load(BASE_DIR + '/tmp/mnist/original/{0}/trackin_loss_infl_{1}.npz'.format(TRIAL, ckpt_num+1))['arr_0']\n",
    "accum_3_high_loss = np.array([np.corrcoef(accum_influences[i], trackin_influences[i])[0,1] for i in range(100)])\n",
    "\n",
    "ckpt_35 = np.array([np.corrcoef(np.load(BASE_DIR + '/tmp/mnist/original/{0}/trackin_loss_infl_{1}.npz'.format(TRIAL, 35))['arr_0'][i], trackin_influences[i])[0,1] for i in range(100)])\n",
    "\n",
    "# some gradients towards the end are zero, adding an epsilon to get around nan issue with correlation results.\n",
    "ckpt_75 = np.array([np.corrcoef(1000*np.load(BASE_DIR + '/tmp/mnist/original/{0}/trackin_loss_infl_{1}.npz'.format(TRIAL, 75))['arr_0'][i] + 0.000001, 1000*trackin_influences[i]+ 0.000001)[0,1] for i in range(100)])"
   ]
  },
  {
   "cell_type": "code",
   "execution_count": null,
   "metadata": {
    "colab": {
     "base_uri": "https://localhost:8080/",
     "height": 781
    },
    "executionInfo": {
     "elapsed": 566,
     "status": "ok",
     "timestamp": 1645177459516,
     "user": {
      "displayName": "Hasan Amin",
      "photoUrl": "https://lh3.googleusercontent.com/a-/AOh14Gj3kp8k_QR5n481JXJjNGoiBLUorNBkkT2NPcEbOA=s64",
      "userId": "17461130678708299500"
     },
     "user_tz": 300
    },
    "id": "pUiBsmm9DDZo",
    "outputId": "731a3f72-6208-4ea1-b0e3-624514ff0af9"
   },
   "outputs": [
    {
     "data": {
      "text/plain": [
       "(array([-0.2,  0. ,  0.2,  0.4,  0.6,  0.8,  1. ]),\n",
       " <a list of 7 Text major ticklabel objects>)"
      ]
     },
     "execution_count": 60,
     "metadata": {},
     "output_type": "execute_result"
    },
    {
     "data": {
      "image/png": "[encoded data removed]",
      "text/plain": [
       "<Figure size 1080x720 with 1 Axes>"
      ]
     },
     "metadata": {
      "needs_background": "light"
     },
     "output_type": "display_data"
    }
   ],
   "source": [
    "cors = [ckpt_35,\n",
    "        ckpt_75,\n",
    "        accum_3,\n",
    "        accum_3_high_loss,\n",
    "        accum_4,\n",
    "        accum_6,\n",
    "        accum_proj_6[2],\n",
    "        accum_proj_6[1],\n",
    "        accum_proj_6[0]]\n",
    "\n",
    "plt.figure(figsize=(15,10))\n",
    "# plot = sns.boxplot(y=np.array(cors).T, x=['mid ckpt', 'last ckpt', '3 evenly\\n spaced ckpts', '3 ckpts with high\\n loss reduction', '4 ckpts', '6 ckpts', '6 ckpts\\n RP 1000 dim', '6 ckpts\\n RP 100 dim', '6 ckpts\\n RP 50 dim'], showfliers=False)\n",
    "###\n",
    "import pandas as pd\n",
    "df_cors = pd.DataFrame(np.array(cors).T, columns=['mid ckpt', 'last ckpt', '3 evenly\\n spaced ckpts', '3 ckpts with high\\n loss reduction', '4 ckpts', '6 ckpts', '6 ckpts\\n RP 1000 dim', '6 ckpts\\n RP 100 dim', '6 ckpts\\n RP 50 dim'])\n",
    "plot = sns.boxplot(x=\"variable\", y=\"value\", data=pd.melt(df_cors), showfliers=False)\n",
    "###\n",
    "plot.set_xticklabels(plot.get_xticklabels(), rotation=45, fontsize=20)\n",
    "plt.grid(b=True, axis='y')\n",
    "plot.set_axisbelow(True)\n",
    "plt.yticks(fontsize=20)"
   ]
  },
  {
   "cell_type": "code",
   "execution_count": null,
   "metadata": {
    "colab": {
     "base_uri": "https://localhost:8080/"
    },
    "executionInfo": {
     "elapsed": 145,
     "status": "ok",
     "timestamp": 1645177469895,
     "user": {
      "displayName": "Hasan Amin",
      "photoUrl": "https://lh3.googleusercontent.com/a-/AOh14Gj3kp8k_QR5n481JXJjNGoiBLUorNBkkT2NPcEbOA=s64",
      "userId": "17461130678708299500"
     },
     "user_tz": 300
    },
    "id": "gDQDGKjWgxbC",
    "outputId": "e62d68f1-9abd-4572-d012-ef1d9a3636e4"
   },
   "outputs": [
    {
     "data": {
      "text/plain": [
       "[0.6318527656556543,\n",
       " 0.41564721840869756,\n",
       " 0.7134559164701725,\n",
       " 0.8726101513524385,\n",
       " 0.8831877741841803,\n",
       " 0.8857648247995555,\n",
       " 0.8749910519333707,\n",
       " 0.812372885053418,\n",
       " 0.7473389833072344]"
      ]
     },
     "execution_count": 61,
     "metadata": {},
     "output_type": "execute_result"
    }
   ],
   "source": [
    "[np.median(x) for x in cors]"
   ]
  }
 ],
 "metadata": {
  "colab": {
   "collapsed_sections": [],
   "last_runtime": {
    "build_target": "",
    "kind": "local"
   },
   "name": "mnist_trackIn.ipynb",
   "provenance": [
    {
     "file_id": "1ZLLF0piHtpy736y_4jO840RBYdQCz2zK",
     "timestamp": 1582070457945
    },
    {
     "file_id": "1k9bq7wTdX0QHWp3z8qZkpd1DQXUmb2Ke",
     "timestamp": 1578964714521
    }
   ]
  },
  "gpuClass": "standard",
  "kernelspec": {
   "display_name": "Python 3.9 (Default)",
   "language": "python",
   "name": "python3"
  },
  "language_info": {
   "codemirror_mode": {
    "name": "ipython",
    "version": 3
   },
   "file_extension": ".py",
   "mimetype": "text/x-python",
   "name": "python",
   "nbconvert_exporter": "python",
   "pygments_lexer": "ipython3",
   "version": "3.9.7"
  }
 },
 "nbformat": 4,
 "nbformat_minor": 4
}
